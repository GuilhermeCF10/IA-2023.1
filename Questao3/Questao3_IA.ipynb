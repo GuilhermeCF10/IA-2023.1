{
  "cells": [
    {
      "cell_type": "markdown",
      "source": [
        "# Instalando bibliotecas"
      ],
      "metadata": {
        "id": "mwb1uwefdyU0"
      }
    },
    {
      "cell_type": "code",
      "source": [
        "!pip install tensorflow\n",
        "!pip install Keras"
      ],
      "metadata": {
        "colab": {
          "base_uri": "https://localhost:8080/"
        },
        "id": "HSWiJDQdvwCm",
        "outputId": "1e2a2cbb-0ecf-458e-9975-c452f5fcd068"
      },
      "execution_count": null,
      "outputs": [
        {
          "output_type": "stream",
          "name": "stdout",
          "text": [
            "Requirement already satisfied: tensorflow in /usr/local/lib/python3.10/dist-packages (2.12.0)\n",
            "Requirement already satisfied: absl-py>=1.0.0 in /usr/local/lib/python3.10/dist-packages (from tensorflow) (1.4.0)\n",
            "Requirement already satisfied: astunparse>=1.6.0 in /usr/local/lib/python3.10/dist-packages (from tensorflow) (1.6.3)\n",
            "Requirement already satisfied: flatbuffers>=2.0 in /usr/local/lib/python3.10/dist-packages (from tensorflow) (23.5.26)\n",
            "Requirement already satisfied: gast<=0.4.0,>=0.2.1 in /usr/local/lib/python3.10/dist-packages (from tensorflow) (0.4.0)\n",
            "Requirement already satisfied: google-pasta>=0.1.1 in /usr/local/lib/python3.10/dist-packages (from tensorflow) (0.2.0)\n",
            "Requirement already satisfied: grpcio<2.0,>=1.24.3 in /usr/local/lib/python3.10/dist-packages (from tensorflow) (1.56.0)\n",
            "Requirement already satisfied: h5py>=2.9.0 in /usr/local/lib/python3.10/dist-packages (from tensorflow) (3.8.0)\n",
            "Requirement already satisfied: jax>=0.3.15 in /usr/local/lib/python3.10/dist-packages (from tensorflow) (0.4.13)\n",
            "Requirement already satisfied: keras<2.13,>=2.12.0 in /usr/local/lib/python3.10/dist-packages (from tensorflow) (2.12.0)\n",
            "Requirement already satisfied: libclang>=13.0.0 in /usr/local/lib/python3.10/dist-packages (from tensorflow) (16.0.0)\n",
            "Requirement already satisfied: numpy<1.24,>=1.22 in /usr/local/lib/python3.10/dist-packages (from tensorflow) (1.22.4)\n",
            "Requirement already satisfied: opt-einsum>=2.3.2 in /usr/local/lib/python3.10/dist-packages (from tensorflow) (3.3.0)\n",
            "Requirement already satisfied: packaging in /usr/local/lib/python3.10/dist-packages (from tensorflow) (23.1)\n",
            "Requirement already satisfied: protobuf!=4.21.0,!=4.21.1,!=4.21.2,!=4.21.3,!=4.21.4,!=4.21.5,<5.0.0dev,>=3.20.3 in /usr/local/lib/python3.10/dist-packages (from tensorflow) (3.20.3)\n",
            "Requirement already satisfied: setuptools in /usr/local/lib/python3.10/dist-packages (from tensorflow) (67.7.2)\n",
            "Requirement already satisfied: six>=1.12.0 in /usr/local/lib/python3.10/dist-packages (from tensorflow) (1.16.0)\n",
            "Requirement already satisfied: tensorboard<2.13,>=2.12 in /usr/local/lib/python3.10/dist-packages (from tensorflow) (2.12.3)\n",
            "Requirement already satisfied: tensorflow-estimator<2.13,>=2.12.0 in /usr/local/lib/python3.10/dist-packages (from tensorflow) (2.12.0)\n",
            "Requirement already satisfied: termcolor>=1.1.0 in /usr/local/lib/python3.10/dist-packages (from tensorflow) (2.3.0)\n",
            "Requirement already satisfied: typing-extensions>=3.6.6 in /usr/local/lib/python3.10/dist-packages (from tensorflow) (4.7.1)\n",
            "Requirement already satisfied: wrapt<1.15,>=1.11.0 in /usr/local/lib/python3.10/dist-packages (from tensorflow) (1.14.1)\n",
            "Requirement already satisfied: tensorflow-io-gcs-filesystem>=0.23.1 in /usr/local/lib/python3.10/dist-packages (from tensorflow) (0.32.0)\n",
            "Requirement already satisfied: wheel<1.0,>=0.23.0 in /usr/local/lib/python3.10/dist-packages (from astunparse>=1.6.0->tensorflow) (0.40.0)\n",
            "Requirement already satisfied: ml-dtypes>=0.1.0 in /usr/local/lib/python3.10/dist-packages (from jax>=0.3.15->tensorflow) (0.2.0)\n",
            "Requirement already satisfied: scipy>=1.7 in /usr/local/lib/python3.10/dist-packages (from jax>=0.3.15->tensorflow) (1.10.1)\n",
            "Requirement already satisfied: google-auth<3,>=1.6.3 in /usr/local/lib/python3.10/dist-packages (from tensorboard<2.13,>=2.12->tensorflow) (2.17.3)\n",
            "Requirement already satisfied: google-auth-oauthlib<1.1,>=0.5 in /usr/local/lib/python3.10/dist-packages (from tensorboard<2.13,>=2.12->tensorflow) (1.0.0)\n",
            "Requirement already satisfied: markdown>=2.6.8 in /usr/local/lib/python3.10/dist-packages (from tensorboard<2.13,>=2.12->tensorflow) (3.4.3)\n",
            "Requirement already satisfied: requests<3,>=2.21.0 in /usr/local/lib/python3.10/dist-packages (from tensorboard<2.13,>=2.12->tensorflow) (2.27.1)\n",
            "Requirement already satisfied: tensorboard-data-server<0.8.0,>=0.7.0 in /usr/local/lib/python3.10/dist-packages (from tensorboard<2.13,>=2.12->tensorflow) (0.7.1)\n",
            "Requirement already satisfied: werkzeug>=1.0.1 in /usr/local/lib/python3.10/dist-packages (from tensorboard<2.13,>=2.12->tensorflow) (2.3.6)\n",
            "Requirement already satisfied: cachetools<6.0,>=2.0.0 in /usr/local/lib/python3.10/dist-packages (from google-auth<3,>=1.6.3->tensorboard<2.13,>=2.12->tensorflow) (5.3.1)\n",
            "Requirement already satisfied: pyasn1-modules>=0.2.1 in /usr/local/lib/python3.10/dist-packages (from google-auth<3,>=1.6.3->tensorboard<2.13,>=2.12->tensorflow) (0.3.0)\n",
            "Requirement already satisfied: rsa<5,>=3.1.4 in /usr/local/lib/python3.10/dist-packages (from google-auth<3,>=1.6.3->tensorboard<2.13,>=2.12->tensorflow) (4.9)\n",
            "Requirement already satisfied: requests-oauthlib>=0.7.0 in /usr/local/lib/python3.10/dist-packages (from google-auth-oauthlib<1.1,>=0.5->tensorboard<2.13,>=2.12->tensorflow) (1.3.1)\n",
            "Requirement already satisfied: urllib3<1.27,>=1.21.1 in /usr/local/lib/python3.10/dist-packages (from requests<3,>=2.21.0->tensorboard<2.13,>=2.12->tensorflow) (1.26.16)\n",
            "Requirement already satisfied: certifi>=2017.4.17 in /usr/local/lib/python3.10/dist-packages (from requests<3,>=2.21.0->tensorboard<2.13,>=2.12->tensorflow) (2023.5.7)\n",
            "Requirement already satisfied: charset-normalizer~=2.0.0 in /usr/local/lib/python3.10/dist-packages (from requests<3,>=2.21.0->tensorboard<2.13,>=2.12->tensorflow) (2.0.12)\n",
            "Requirement already satisfied: idna<4,>=2.5 in /usr/local/lib/python3.10/dist-packages (from requests<3,>=2.21.0->tensorboard<2.13,>=2.12->tensorflow) (3.4)\n",
            "Requirement already satisfied: MarkupSafe>=2.1.1 in /usr/local/lib/python3.10/dist-packages (from werkzeug>=1.0.1->tensorboard<2.13,>=2.12->tensorflow) (2.1.3)\n",
            "Requirement already satisfied: pyasn1<0.6.0,>=0.4.6 in /usr/local/lib/python3.10/dist-packages (from pyasn1-modules>=0.2.1->google-auth<3,>=1.6.3->tensorboard<2.13,>=2.12->tensorflow) (0.5.0)\n",
            "Requirement already satisfied: oauthlib>=3.0.0 in /usr/local/lib/python3.10/dist-packages (from requests-oauthlib>=0.7.0->google-auth-oauthlib<1.1,>=0.5->tensorboard<2.13,>=2.12->tensorflow) (3.2.2)\n",
            "Requirement already satisfied: Keras in /usr/local/lib/python3.10/dist-packages (2.12.0)\n"
          ]
        }
      ]
    },
    {
      "cell_type": "markdown",
      "source": [
        "# Geral"
      ],
      "metadata": {
        "id": "PoUA8b-Jhq79"
      }
    },
    {
      "cell_type": "markdown",
      "metadata": {
        "id": "Nhycv833hnnV"
      },
      "source": [
        "No Jupyter Notebook vc executa uma célula com shift-enter\n",
        "\n",
        "Vamos usar uma rede neural muito simples via a framework keras para fazer uma tarefa de classificação.\n",
        "O problema que vamos tratar é bastante conhecido da comunidade de machine learning, e vai servir principalmente para nós concretizarmos o que foi visto em sala.\n",
        "É importante que tenham o ambiente de execução configurado, como foi sugerido no começo do curso.\n",
        "Nossa tarefa é projetar uma rede neural mlp de forma que ela consiga reconhecer dígitos escritos.\n",
        "Keras já vem com uma base de datos destes dígitos para treinamento, ou seja, um tensor com ( imagens de dígitos, identificaçao do dígito) chamada de mnist.\n",
        "Portanto a primeira coisa é importar no nosso código o keras ( façam isso onde a conexão de internet for boa )"
      ]
    },
    {
      "cell_type": "code",
      "execution_count": null,
      "metadata": {
        "id": "gFLRheCdhnnZ"
      },
      "outputs": [],
      "source": [
        "from keras.datasets import mnist\n",
        "import keras\n",
        "import numpy as np\n",
        "import os\n",
        "\n",
        "os.environ['KMP_DUPLICATE_LIB_OK']='True'\n"
      ]
    },
    {
      "cell_type": "markdown",
      "metadata": {
        "id": "e076KIUFhnna"
      },
      "source": [
        "\n",
        "A primeira etapa é obtermos os dados, como já foi dito o próprio keras tem estes dados que são muito usados por quem pratica machine learning.\n",
        "Os dados são de treinamento da rede e de teste da rede"
      ]
    },
    {
      "cell_type": "code",
      "execution_count": null,
      "metadata": {
        "id": "rWHhWTdthnnb"
      },
      "outputs": [],
      "source": [
        "(train_images,train_labels),(test_images,test_labels) = mnist.load_data()"
      ]
    },
    {
      "cell_type": "markdown",
      "metadata": {
        "id": "3RONrgquhnnb"
      },
      "source": [
        "Estes dados já estão bem arrumadinhos. Evidentemente quando estivermos lidando com dados reais há toda uma etapa de pre-processamento onde vamos verificar dados faltosos, dados fora de escala, dados errados etc..\n",
        "Vamos ver o jeitão destes dados."
      ]
    },
    {
      "cell_type": "code",
      "execution_count": null,
      "metadata": {
        "colab": {
          "base_uri": "https://localhost:8080/"
        },
        "id": "soqNgTMKhnnc",
        "outputId": "53bdcb2d-ccfc-4e88-e19e-b4ddc0c2b364"
      },
      "outputs": [
        {
          "output_type": "stream",
          "name": "stdout",
          "text": [
            "(60000, 28, 28)\n"
          ]
        }
      ],
      "source": [
        "print(train_images.shape)"
      ]
    },
    {
      "cell_type": "markdown",
      "metadata": {
        "id": "wtCD4swIhnnc"
      },
      "source": [
        "O primeiro componente mostra que de treino temos 60000 exemplos, cada um deles numa matriz de 28 x 28 ( que é a imagem ). Vamos olhar um,  plotando a imagem ,  o sexto exemplo:"
      ]
    },
    {
      "cell_type": "code",
      "execution_count": null,
      "metadata": {
        "colab": {
          "base_uri": "https://localhost:8080/",
          "height": 430
        },
        "id": "RzcN6UnFhnnd",
        "outputId": "0588067c-4abd-499d-d63d-05c107ffa65a"
      },
      "outputs": [
        {
          "output_type": "display_data",
          "data": {
            "text/plain": [
              "<Figure size 640x480 with 1 Axes>"
            ],
            "image/png": "[encoded data removed]"
          },
          "metadata": {}
        }
      ],
      "source": [
        "digito = train_images[5]\n",
        "%matplotlib inline\n",
        "import matplotlib.pyplot as plt\n",
        "plt.imshow(digito, cmap = plt.cm.binary)\n",
        "plt.show()"
      ]
    },
    {
      "cell_type": "markdown",
      "metadata": {
        "id": "QT6PdhCehnnd"
      },
      "source": [
        "Redes neurais lidam melhor com dados reais, e não inteiros como é o caso aqui.\n",
        "Vamos converter num formato mais adequado ao processamento de redes"
      ]
    },
    {
      "cell_type": "code",
      "execution_count": null,
      "metadata": {
        "id": "w10MSzdphnne"
      },
      "outputs": [],
      "source": [
        "train_images = train_images.reshape((60000,28*28))\n",
        "train_images = train_images.astype('float32')/255\n",
        "test_image_copy = test_images\n",
        "test_images = test_images.reshape((10000,28*28))\n",
        "test_images = test_images.astype('float32')/255"
      ]
    },
    {
      "cell_type": "markdown",
      "metadata": {
        "id": "bK5c6JnPhnne"
      },
      "source": [
        "Agora vem a questão do projeto da rede neural.\n",
        "Decidimos que nosso modelo de machine learning será uma rede neural padrão ( mlp ).\n",
        "O que precisamos ainda decidir é o número de camadas que esta rede terá, e como serão os neurônios desta rede. Como isso teremos fechada a questão da arquitetura da rede.\n",
        "Nossa rede terá todos os neurônios conectados aos da próxima camada,  e todas as sinapses serão ajustadas numa camada, ou seja, uma típica MLP. Quem faz isso no keras é o modelo chamado sequencial."
      ]
    },
    {
      "cell_type": "code",
      "execution_count": null,
      "metadata": {
        "id": "De2AIOEThnnf"
      },
      "outputs": [],
      "source": [
        "from keras import models\n",
        "from keras import layers\n",
        "\n",
        "rede = models.Sequential()"
      ]
    },
    {
      "cell_type": "markdown",
      "metadata": {
        "id": "hdQ7XpHchnnf"
      },
      "source": [
        "Agora é a questão da arquitetura propriamente dita : quantas camadas ( layers ) quantos neurônios por camada, que função de ativação estes neurônios vão usar.."
      ]
    },
    {
      "cell_type": "code",
      "execution_count": null,
      "metadata": {
        "id": "duFBAnDkhnnf"
      },
      "outputs": [],
      "source": [
        "rede.add(layers.Dense(512,activation = 'sigmoid', input_shape = (28*28,) ))\n",
        "rede.add(layers.Dense(10,activation='softmax'))"
      ]
    },
    {
      "cell_type": "markdown",
      "metadata": {
        "id": "Sq0JrNhAhnnf"
      },
      "source": [
        "Então decidi por 1 camadas. A primeira (hidden) terá 512 neurônios com relu como função de ativação. E como é a primeira, portanto conectada ao input, informo como é um dado de entrada padrão : é 28x28\n",
        "A segunda camada é a de saída, ela tem 10 neurônios pois a tarefa é discriminar, identificar uma imagem 28x28 como sendo um entre os dígitos de 0  a 9 .  A última camada usa uma função de ativação do tipo softmax, esta função de ativação funciona como uma probabilidade, ou seja, a rede vai estar respondendo qual é a probabilidade de que a imagem vista é o número n. Como são 10 números , haverá 10 probabilidades e a maior é a resposta da rede.\n"
      ]
    },
    {
      "cell_type": "markdown",
      "metadata": {
        "id": "VwND3CGxhnnf"
      },
      "source": [
        "Arquitetura preparada, agora temos que cuidar do esquema de aprendizado, ou treinamento.\n",
        "Vimos que se usa uma função custo. Uma função que vai indicar se a rede está se saindo bem num dado, ou mal.\n",
        "Derivamos o algoritmo backpropagation usando uma função custo que era o erro médio quadrático da rede.\n",
        "Para usar o keras com rede nossa função custo será a função loss, a mais adequada para tarefas de classificação como a nossa\n",
        "é a de cross-entropia categorica.\n",
        "loss = 'categorical_crossentropy'\n",
        "E evidentemente precisamos de um \"processo\" através do qual usar esta informação da função custo para ajustar os pesos. Derivamos o famoso backpropagation em sala, que nada mais é que um cálculo de gradiente. Estamos então diante de um processo de otimização: achar as melhores sinapses que minimizam uma função custo.\n",
        "Em keras configuramos que otimizador usar.\n",
        "E temos que indicar também como otimizar, qual medida é  importante. A métrica"
      ]
    },
    {
      "cell_type": "code",
      "execution_count": null,
      "metadata": {
        "id": "6V-OWu6rhnng"
      },
      "outputs": [],
      "source": [
        "rede.compile(optimizer='rmsprop',\n",
        "                loss='categorical_crossentropy',\n",
        "                metrics=['accuracy'])"
      ]
    },
    {
      "cell_type": "markdown",
      "metadata": {
        "id": "34Mc6d59hnng"
      },
      "source": [
        "Falta um detalhe, precisamos tratar também as respostas. Decidimos que a rede vai respoder probabilidades, mas os dados de treino tem outra forma : (28x28, digito)\n",
        "Dígito, nos nossos dados , é um valor único. Mas a rede espera que sejam 10! A saída dela tem 10 neurônios, não 1"
      ]
    },
    {
      "cell_type": "code",
      "execution_count": null,
      "metadata": {
        "colab": {
          "base_uri": "https://localhost:8080/",
          "height": 447
        },
        "id": "tJgrTM0Mhnng",
        "outputId": "a43864c7-1023-4045-883c-ad6c42b29117"
      },
      "outputs": [
        {
          "output_type": "stream",
          "name": "stdout",
          "text": [
            "nos dados  , para esta imagem, a resposta é  2\n"
          ]
        },
        {
          "output_type": "display_data",
          "data": {
            "text/plain": [
              "<Figure size 640x480 with 1 Axes>"
            ],
            "image/png": "[encoded data removed]"
          },
          "metadata": {}
        }
      ],
      "source": [
        "plt.imshow(digito, cmap = plt.cm.binary)\n",
        "print('nos dados  , para esta imagem, a resposta é ',train_labels[5])"
      ]
    },
    {
      "cell_type": "markdown",
      "metadata": {
        "id": "CphEXeBmhnng"
      },
      "source": [
        "Isso é fácil de resolver no nosso caso, keras ajuda também.\n",
        "Vamos transformar os labels de dígitos para categorias"
      ]
    },
    {
      "cell_type": "code",
      "execution_count": null,
      "metadata": {
        "id": "WNmTkUDthnnh"
      },
      "outputs": [],
      "source": [
        "from keras.utils import to_categorical\n",
        "\n",
        "train_labels = to_categorical(train_labels)\n",
        "test_labels = to_categorical(test_labels)"
      ]
    },
    {
      "cell_type": "code",
      "execution_count": null,
      "metadata": {
        "colab": {
          "base_uri": "https://localhost:8080/"
        },
        "id": "hGdCEBxThnnh",
        "outputId": "cfa9e2fa-f909-4fc2-db4d-6a4bf899bf6f"
      },
      "outputs": [
        {
          "output_type": "stream",
          "name": "stdout",
          "text": [
            "Agora nosso 2, virou  [0. 0. 1. 0. 0. 0. 0. 0. 0. 0.]\n"
          ]
        }
      ],
      "source": [
        "print('Agora nosso 2, virou ', train_labels[5])"
      ]
    },
    {
      "cell_type": "markdown",
      "metadata": {
        "id": "9OsL3ac3hnnh"
      },
      "source": [
        "Que é o que a rede espera, 10 respostas para seus 10 neurônios na última camada."
      ]
    },
    {
      "cell_type": "markdown",
      "metadata": {
        "id": "_47IbrOXhnnh"
      },
      "source": [
        "Resta-nos preparar o treinamento da rede.\n",
        "Vamos empregar um esquema de treinamento conhecido com batch learning.\n",
        "No batch learning a rede não processa todo o conjunto de treinamento de uma vez, ela quebra em subconjuntos chamados batchs.\n",
        "Nossa rede vai usar batchs de tamanho 128.\n",
        "Vamos treinar só por 5 épocas, onde uma época é o correspondente a apresentação de todos os dados de treino"
      ]
    },
    {
      "cell_type": "code",
      "execution_count": null,
      "metadata": {
        "colab": {
          "base_uri": "https://localhost:8080/"
        },
        "id": "zyKU1_5Ohnnh",
        "outputId": "68d07497-8bfd-450c-eed4-72f3951c7ab5"
      },
      "outputs": [
        {
          "output_type": "stream",
          "name": "stdout",
          "text": [
            "Epoch 1/20\n",
            "469/469 [==============================] - 6s 11ms/step - loss: 0.4591 - accuracy: 0.8758\n",
            "Epoch 2/20\n",
            "469/469 [==============================] - 5s 10ms/step - loss: 0.2673 - accuracy: 0.9214\n",
            "Epoch 3/20\n",
            "469/469 [==============================] - 4s 9ms/step - loss: 0.2157 - accuracy: 0.9370\n",
            "Epoch 4/20\n",
            "469/469 [==============================] - 5s 11ms/step - loss: 0.1766 - accuracy: 0.9479\n",
            "Epoch 5/20\n",
            "469/469 [==============================] - 6s 12ms/step - loss: 0.1467 - accuracy: 0.9579\n",
            "Epoch 6/20\n",
            "469/469 [==============================] - 4s 9ms/step - loss: 0.1236 - accuracy: 0.9646\n",
            "Epoch 7/20\n",
            "469/469 [==============================] - 5s 11ms/step - loss: 0.1059 - accuracy: 0.9696\n",
            "Epoch 8/20\n",
            "469/469 [==============================] - 4s 9ms/step - loss: 0.0923 - accuracy: 0.9735\n",
            "Epoch 9/20\n",
            "469/469 [==============================] - 4s 9ms/step - loss: 0.0811 - accuracy: 0.9765\n",
            "Epoch 10/20\n",
            "469/469 [==============================] - 5s 11ms/step - loss: 0.0717 - accuracy: 0.9789\n",
            "Epoch 11/20\n",
            "469/469 [==============================] - 4s 9ms/step - loss: 0.0635 - accuracy: 0.9822\n",
            "Epoch 12/20\n",
            "469/469 [==============================] - 4s 9ms/step - loss: 0.0570 - accuracy: 0.9836\n",
            "Epoch 13/20\n",
            "469/469 [==============================] - 6s 13ms/step - loss: 0.0512 - accuracy: 0.9852\n",
            "Epoch 14/20\n",
            "469/469 [==============================] - 4s 9ms/step - loss: 0.0456 - accuracy: 0.9869\n",
            "Epoch 15/20\n",
            "469/469 [==============================] - 5s 11ms/step - loss: 0.0417 - accuracy: 0.9884\n",
            "Epoch 16/20\n",
            "469/469 [==============================] - 4s 9ms/step - loss: 0.0376 - accuracy: 0.9896\n",
            "Epoch 17/20\n",
            "469/469 [==============================] - 4s 9ms/step - loss: 0.0335 - accuracy: 0.9912\n",
            "Epoch 18/20\n",
            "469/469 [==============================] - 5s 11ms/step - loss: 0.0303 - accuracy: 0.9921\n",
            "Epoch 19/20\n",
            "469/469 [==============================] - 4s 9ms/step - loss: 0.0274 - accuracy: 0.9929\n",
            "Epoch 20/20\n",
            "469/469 [==============================] - 4s 9ms/step - loss: 0.0247 - accuracy: 0.9938\n"
          ]
        }
      ],
      "source": [
        "treino = rede.fit(train_images, train_labels, epochs=20, batch_size=128)\n"
      ]
    },
    {
      "cell_type": "markdown",
      "metadata": {
        "id": "_CaOS3Qbhnni"
      },
      "source": [
        "A rede foi treinada! Esperemos...\n",
        "O resultado do treino, no keras, fica num objeto chamado history.\n",
        "É um dicionário { chave, valor }"
      ]
    },
    {
      "cell_type": "code",
      "execution_count": null,
      "metadata": {
        "id": "hz6dyz8uhnni"
      },
      "outputs": [],
      "source": [
        "historia = treino.history"
      ]
    },
    {
      "cell_type": "code",
      "execution_count": null,
      "metadata": {
        "colab": {
          "base_uri": "https://localhost:8080/"
        },
        "id": "tgBZsNVehnni",
        "outputId": "39379a66-0d35-4260-ded7-6cec81b67ba2"
      },
      "outputs": [
        {
          "output_type": "stream",
          "name": "stdout",
          "text": [
            "dict_keys(['loss', 'accuracy'])\n"
          ]
        }
      ],
      "source": [
        "print(historia.keys())"
      ]
    },
    {
      "cell_type": "markdown",
      "metadata": {
        "id": "eTaick8phnni"
      },
      "source": [
        "O objeto historia do treino tem 2 elementos : acuracia e custo. Vamos plotar :"
      ]
    },
    {
      "cell_type": "code",
      "execution_count": null,
      "metadata": {
        "colab": {
          "base_uri": "https://localhost:8080/",
          "height": 472
        },
        "id": "Rlkwu-wphnnj",
        "outputId": "d7176d0e-8d68-4495-e2bb-e61c3ca3f3be"
      },
      "outputs": [
        {
          "output_type": "display_data",
          "data": {
            "text/plain": [
              "<Figure size 640x480 with 1 Axes>"
            ],
            "image/png": "[encoded data removed]"
          },
          "metadata": {}
        }
      ],
      "source": [
        "import matplotlib.pyplot as plt\n",
        "\n",
        "acc = treino.history['accuracy']\n",
        "\n",
        "loss = treino.history['loss']\n",
        "\n",
        "epochs = range(1, len(acc) + 1)\n",
        "\n",
        "# \"bo\" ponto azul\n",
        "#plt.plot(epochs, loss, 'bo', label='Treinamento custo')\n",
        "# b linha azul\"\n",
        "plt.plot(epochs, acc, 'b', label='Acuracia')\n",
        "plt.title('Custo e Acurácia')\n",
        "plt.xlabel('Epocas')\n",
        "plt.ylabel('Custo')\n",
        "plt.legend()\n",
        "\n",
        "plt.show()"
      ]
    },
    {
      "cell_type": "code",
      "execution_count": null,
      "metadata": {
        "colab": {
          "base_uri": "https://localhost:8080/",
          "height": 472
        },
        "id": "BeXE5Gyxhnnj",
        "outputId": "1315a232-5b02-4219-f829-8539b1e6b185"
      },
      "outputs": [
        {
          "output_type": "display_data",
          "data": {
            "text/plain": [
              "<Figure size 640x480 with 1 Axes>"
            ],
            "image/png": "[encoded data removed]"
          },
          "metadata": {}
        }
      ],
      "source": [
        "\n",
        "\n",
        "loss = treino.history['loss']\n",
        "\n",
        "epochs = range(1, len(acc) + 1)\n",
        "\n",
        "# \"bo\" ponto azul\n",
        "plt.plot(epochs, loss, 'b', label='Treinamento custo')\n",
        "# b linha azul\"\n",
        "#plt.plot(epochs, acc, 'b', label='Acuracia')\n",
        "plt.title('Custo ')\n",
        "plt.xlabel('Epocas')\n",
        "plt.ylabel('Custo')\n",
        "plt.legend()\n",
        "\n",
        "plt.show()"
      ]
    },
    {
      "cell_type": "markdown",
      "metadata": {
        "id": "9ms6UKvQhnnj"
      },
      "source": [
        "Temos uma rede que aprendeu a reconhecer dígitos numa imagem.\n",
        "Agora ela pode ser usada em dados novos, nunca vistos por ela antes. Os dados de teste."
      ]
    },
    {
      "cell_type": "code",
      "execution_count": null,
      "metadata": {
        "colab": {
          "base_uri": "https://localhost:8080/"
        },
        "id": "WPacZb3uhnnj",
        "outputId": "04cbbde9-c7c7-457d-d3dc-1c8933dcf0fa"
      },
      "outputs": [
        {
          "output_type": "stream",
          "name": "stdout",
          "text": [
            "313/313 [==============================] - 1s 2ms/step\n"
          ]
        }
      ],
      "source": [
        "respostas = rede.predict(test_images )\n",
        "\n"
      ]
    },
    {
      "cell_type": "markdown",
      "metadata": {
        "id": "SqOs0hymhnnj"
      },
      "source": [
        "Para checar um dígito qualquer, vamos por a imagem de teste na forma que tínhamos no começo."
      ]
    },
    {
      "cell_type": "code",
      "execution_count": null,
      "metadata": {
        "id": "x94gLg8Shnnj"
      },
      "outputs": [],
      "source": [
        "imagem_escolhida = 3"
      ]
    },
    {
      "cell_type": "code",
      "execution_count": null,
      "metadata": {
        "scrolled": false,
        "colab": {
          "base_uri": "https://localhost:8080/",
          "height": 430
        },
        "id": "3zgqHVprhnnk",
        "outputId": "fc36e58d-f3c6-4a32-ba3f-c2bdd94e6942"
      },
      "outputs": [
        {
          "output_type": "display_data",
          "data": {
            "text/plain": [
              "<Figure size 640x480 with 1 Axes>"
            ],
            "image/png": "[encoded data removed]"
          },
          "metadata": {}
        }
      ],
      "source": [
        "digito = test_image_copy[imagem_escolhida]\n",
        "%matplotlib inline\n",
        "import matplotlib.pyplot as plt\n",
        "plt.imshow(digito, cmap = plt.cm.binary)\n",
        "plt.show()"
      ]
    },
    {
      "cell_type": "code",
      "execution_count": null,
      "metadata": {
        "colab": {
          "base_uri": "https://localhost:8080/"
        },
        "id": "mCtekJK5hnnk",
        "outputId": "0dfbf231-eaee-403e-a7b0-aae4c8ae2b36"
      },
      "outputs": [
        {
          "output_type": "stream",
          "name": "stdout",
          "text": [
            "[9.9835908e-01 1.7693955e-07 4.2187597e-04 1.0655471e-05 4.7378177e-05\n",
            " 3.7876882e-05 1.9335652e-04 9.0567220e-04 9.8753205e-08 2.3804509e-05]\n"
          ]
        }
      ],
      "source": [
        "print(respostas[imagem_escolhida])"
      ]
    },
    {
      "cell_type": "code",
      "execution_count": null,
      "metadata": {
        "colab": {
          "base_uri": "https://localhost:8080/"
        },
        "id": "mBbDpmRIhnnk",
        "outputId": "deabbb8a-cf55-4186-b531-9d30be6d50d6"
      },
      "outputs": [
        {
          "output_type": "stream",
          "name": "stdout",
          "text": [
            "A maior probabilidade é:  0.9983591\n",
            "Imagem corresponde ao número:  0\n"
          ]
        }
      ],
      "source": [
        "print('A maior probabilidade é: ',np.amax(respostas[imagem_escolhida]))\n",
        "print('Imagem corresponde ao número: ', np.argmax(respostas[imagem_escolhida]))"
      ]
    },
    {
      "cell_type": "markdown",
      "metadata": {
        "id": "O5-hQdujhnnk"
      },
      "source": [
        "TAREFAS :\n",
        "reduza o número de épocas, retreine a rede e discuta a acurácia nos dados de treino e de teste\n",
        "aumente muito o número de epocas (500), retreine, e discuta a acurácia nos dados de treino e teste.\n",
        "Modifique a arquitetura ( mais camadas, mais neuronios por camada ) retreine e discuta a acurácia nos dados de treino e teste.\n",
        "Entregar até 27/05 como relatório\n",
        "Vale um ponto na média"
      ]
    },
    {
      "cell_type": "code",
      "execution_count": null,
      "metadata": {
        "id": "nUHqNEL0hnnw",
        "colab": {
          "base_uri": "https://localhost:8080/"
        },
        "outputId": "1bf4f946-42c7-4f34-ff25-accc7f64b21f"
      },
      "outputs": [
        {
          "output_type": "stream",
          "name": "stdout",
          "text": [
            "Epoch 1/2\n",
            "469/469 [==============================] - 7s 14ms/step - loss: 0.0082 - accuracy: 0.9990\n",
            "Epoch 2/2\n",
            "469/469 [==============================] - 5s 10ms/step - loss: 0.0075 - accuracy: 0.9991\n",
            "dict_keys(['loss', 'accuracy'])\n"
          ]
        }
      ],
      "source": [
        "# menos epocas\n",
        "treino = rede.fit(train_images, train_labels, epochs=2, batch_size=128)\n",
        "historia = treino.history\n",
        "\n",
        "print(historia.keys())"
      ]
    },
    {
      "cell_type": "code",
      "source": [
        "import matplotlib.pyplot as plt\n",
        "\n",
        "acc = treino.history['accuracy']\n",
        "\n",
        "loss = treino.history['loss']\n",
        "\n",
        "epochs = range(1, len(acc) + 1)\n",
        "\n",
        "# \"bo\" ponto azul\n",
        "#plt.plot(epochs, loss, 'bo', label='Treinamento custo')\n",
        "# b linha azul\"\n",
        "plt.plot(epochs, acc, 'b', label='Acuracia')\n",
        "plt.title('Custo e Acurácia')\n",
        "plt.xlabel('Epocas')\n",
        "plt.ylabel('Custo')\n",
        "plt.legend()\n",
        "\n",
        "plt.show()"
      ],
      "metadata": {
        "colab": {
          "base_uri": "https://localhost:8080/",
          "height": 472
        },
        "id": "x1XU7fKS0zTm",
        "outputId": "1ba14b20-2937-43bf-80fb-139353f48114"
      },
      "execution_count": null,
      "outputs": [
        {
          "output_type": "display_data",
          "data": {
            "text/plain": [
              "<Figure size 640x480 with 1 Axes>"
            ],
            "image/png": "[encoded data removed]"
          },
          "metadata": {}
        }
      ]
    },
    {
      "cell_type": "code",
      "source": [
        "loss = treino.history['loss']\n",
        "\n",
        "epochs = range(1, len(acc) + 1)\n",
        "\n",
        "# \"bo\" ponto azul\n",
        "plt.plot(epochs, loss, 'b', label='Treinamento custo')\n",
        "# b linha azul\"\n",
        "#plt.plot(epochs, acc, 'b', label='Acuracia')\n",
        "plt.title('Custo ')\n",
        "plt.xlabel('Epocas')\n",
        "plt.ylabel('Custo')\n",
        "plt.legend()\n",
        "\n",
        "plt.show()"
      ],
      "metadata": {
        "colab": {
          "base_uri": "https://localhost:8080/",
          "height": 472
        },
        "id": "ZlTXvcSi02j8",
        "outputId": "7fbdf6ea-5adb-4664-85f6-fd975d6c90cd"
      },
      "execution_count": null,
      "outputs": [
        {
          "output_type": "display_data",
          "data": {
            "text/plain": [
              "<Figure size 640x480 with 1 Axes>"
            ],
            "image/png": "[encoded data removed]"
          },
          "metadata": {}
        }
      ]
    },
    {
      "cell_type": "code",
      "source": [
        "respostas = rede.predict(test_images )\n",
        "imagem_escolhida = 2"
      ],
      "metadata": {
        "colab": {
          "base_uri": "https://localhost:8080/"
        },
        "id": "dyzQVoy305TF",
        "outputId": "4d43b68f-c037-4721-8bcf-6f6287910e55"
      },
      "execution_count": null,
      "outputs": [
        {
          "output_type": "stream",
          "name": "stdout",
          "text": [
            "313/313 [==============================] - 1s 3ms/step\n"
          ]
        }
      ]
    },
    {
      "cell_type": "code",
      "source": [
        "digito = test_image_copy[imagem_escolhida]\n",
        "%matplotlib inline\n",
        "import matplotlib.pyplot as plt\n",
        "plt.imshow(digito, cmap = plt.cm.binary)\n",
        "plt.show()"
      ],
      "metadata": {
        "colab": {
          "base_uri": "https://localhost:8080/",
          "height": 430
        },
        "id": "QnyDjPDv0_DF",
        "outputId": "1b26e509-2d7a-4628-95b3-8971486ada13"
      },
      "execution_count": null,
      "outputs": [
        {
          "output_type": "display_data",
          "data": {
            "text/plain": [
              "<Figure size 640x480 with 1 Axes>"
            ],
            "image/png": "[encoded data removed]"
          },
          "metadata": {}
        }
      ]
    },
    {
      "cell_type": "code",
      "source": [
        "print(respostas[imagem_escolhida])"
      ],
      "metadata": {
        "colab": {
          "base_uri": "https://localhost:8080/"
        },
        "id": "BhvfXgCW1BJq",
        "outputId": "0ea97901-7fad-4d6c-8abc-4fcef39c1352"
      },
      "execution_count": null,
      "outputs": [
        {
          "output_type": "stream",
          "name": "stdout",
          "text": [
            "[6.41054720e-09 9.99871254e-01 2.51526908e-05 5.45984506e-07\n",
            " 7.86916701e-07 2.61178093e-06 6.34253695e-07 1.32224695e-05\n",
            " 8.55009202e-05 2.39969978e-07]\n"
          ]
        }
      ]
    },
    {
      "cell_type": "code",
      "source": [
        "print('A maior probabilidade é: ',np.amax(respostas[imagem_escolhida]))\n",
        "print('Imagem corresponde ao número: ', np.argmax(respostas[imagem_escolhida]))"
      ],
      "metadata": {
        "colab": {
          "base_uri": "https://localhost:8080/"
        },
        "id": "5nYhMfHs1C9j",
        "outputId": "6a50fe80-3e4f-444a-a980-ea6d28c0dc40"
      },
      "execution_count": null,
      "outputs": [
        {
          "output_type": "stream",
          "name": "stdout",
          "text": [
            "A maior probabilidade é:  0.99987125\n",
            "Imagem corresponde ao número:  1\n"
          ]
        }
      ]
    },
    {
      "cell_type": "code",
      "source": [
        "# muitas epocas epocas\n",
        "treino = rede.fit(train_images, train_labels, epochs=500, batch_size=128)\n",
        "historia = treino.history\n",
        "\n",
        "print(historia.keys())"
      ],
      "metadata": {
        "colab": {
          "base_uri": "https://localhost:8080/"
        },
        "id": "0wMQv3am2J9k",
        "outputId": "f440e81b-4949-4ebc-ca95-7a7cf2f67aa9"
      },
      "execution_count": null,
      "outputs": [
        {
          "output_type": "stream",
          "name": "stdout",
          "text": [
            "Epoch 1/500\n",
            "469/469 [==============================] - 9s 18ms/step - loss: 0.0068 - accuracy: 0.9993\n",
            "Epoch 2/500\n",
            "469/469 [==============================] - 9s 19ms/step - loss: 0.0062 - accuracy: 0.9994\n",
            "Epoch 3/500\n",
            "469/469 [==============================] - 8s 16ms/step - loss: 0.0056 - accuracy: 0.9994\n",
            "Epoch 4/500\n",
            "469/469 [==============================] - 5s 10ms/step - loss: 0.0052 - accuracy: 0.9996\n",
            "Epoch 5/500\n",
            "469/469 [==============================] - 7s 15ms/step - loss: 0.0046 - accuracy: 0.9996\n",
            "Epoch 6/500\n",
            "469/469 [==============================] - 6s 13ms/step - loss: 0.0043 - accuracy: 0.9996\n",
            "Epoch 7/500\n",
            "469/469 [==============================] - 8s 16ms/step - loss: 0.0038 - accuracy: 0.9997\n",
            "Epoch 8/500\n",
            "469/469 [==============================] - 6s 12ms/step - loss: 0.0036 - accuracy: 0.9997\n",
            "Epoch 9/500\n",
            "469/469 [==============================] - 7s 15ms/step - loss: 0.0032 - accuracy: 0.9998\n",
            "Epoch 10/500\n",
            "469/469 [==============================] - 5s 10ms/step - loss: 0.0029 - accuracy: 0.9998\n",
            "Epoch 11/500\n",
            "469/469 [==============================] - 5s 11ms/step - loss: 0.0027 - accuracy: 0.9998\n",
            "Epoch 12/500\n",
            "469/469 [==============================] - 6s 14ms/step - loss: 0.0025 - accuracy: 0.9999\n",
            "Epoch 13/500\n",
            "469/469 [==============================] - 5s 10ms/step - loss: 0.0023 - accuracy: 0.9999\n",
            "Epoch 14/500\n",
            "469/469 [==============================] - 8s 16ms/step - loss: 0.0021 - accuracy: 0.9999\n",
            "Epoch 15/500\n",
            "469/469 [==============================] - 5s 10ms/step - loss: 0.0020 - accuracy: 0.9999\n",
            "Epoch 16/500\n",
            "469/469 [==============================] - 7s 16ms/step - loss: 0.0018 - accuracy: 0.9999\n",
            "Epoch 17/500\n",
            "469/469 [==============================] - 5s 11ms/step - loss: 0.0017 - accuracy: 0.9999\n",
            "Epoch 18/500\n",
            "469/469 [==============================] - 6s 14ms/step - loss: 0.0017 - accuracy: 0.9999\n",
            "Epoch 19/500\n",
            "469/469 [==============================] - 7s 15ms/step - loss: 0.0015 - accuracy: 1.0000\n",
            "Epoch 20/500\n",
            "469/469 [==============================] - 7s 14ms/step - loss: 0.0014 - accuracy: 1.0000\n",
            "Epoch 21/500\n",
            "469/469 [==============================] - 5s 10ms/step - loss: 0.0014 - accuracy: 1.0000\n",
            "Epoch 22/500\n",
            "469/469 [==============================] - 7s 14ms/step - loss: 0.0013 - accuracy: 1.0000\n",
            "Epoch 23/500\n",
            "469/469 [==============================] - 6s 12ms/step - loss: 0.0012 - accuracy: 1.0000\n",
            "Epoch 24/500\n",
            "469/469 [==============================] - 5s 11ms/step - loss: 0.0012 - accuracy: 1.0000\n",
            "Epoch 25/500\n",
            "469/469 [==============================] - 7s 15ms/step - loss: 0.0011 - accuracy: 1.0000\n",
            "Epoch 26/500\n",
            "469/469 [==============================] - 6s 14ms/step - loss: 0.0011 - accuracy: 1.0000\n",
            "Epoch 27/500\n",
            "469/469 [==============================] - 8s 17ms/step - loss: 0.0010 - accuracy: 1.0000\n",
            "Epoch 28/500\n",
            "469/469 [==============================] - 5s 11ms/step - loss: 9.6267e-04 - accuracy: 1.0000\n",
            "Epoch 29/500\n",
            "469/469 [==============================] - 7s 14ms/step - loss: 9.2339e-04 - accuracy: 1.0000\n",
            "Epoch 30/500\n",
            "469/469 [==============================] - 5s 10ms/step - loss: 8.7722e-04 - accuracy: 1.0000\n",
            "Epoch 31/500\n",
            "469/469 [==============================] - 5s 10ms/step - loss: 8.4891e-04 - accuracy: 1.0000\n",
            "Epoch 32/500\n",
            "469/469 [==============================] - 6s 13ms/step - loss: 8.1874e-04 - accuracy: 1.0000\n",
            "Epoch 33/500\n",
            "469/469 [==============================] - 5s 10ms/step - loss: 7.8465e-04 - accuracy: 1.0000\n",
            "Epoch 34/500\n",
            "469/469 [==============================] - 7s 14ms/step - loss: 7.5649e-04 - accuracy: 1.0000\n",
            "Epoch 35/500\n",
            "469/469 [==============================] - 5s 11ms/step - loss: 7.3466e-04 - accuracy: 1.0000\n",
            "Epoch 36/500\n",
            "469/469 [==============================] - 5s 11ms/step - loss: 7.0239e-04 - accuracy: 1.0000\n",
            "Epoch 37/500\n",
            "469/469 [==============================] - 6s 12ms/step - loss: 6.8127e-04 - accuracy: 1.0000\n",
            "Epoch 38/500\n",
            "469/469 [==============================] - 5s 10ms/step - loss: 6.7022e-04 - accuracy: 1.0000\n",
            "Epoch 39/500\n",
            "469/469 [==============================] - 6s 13ms/step - loss: 6.3778e-04 - accuracy: 1.0000\n",
            "Epoch 40/500\n",
            "469/469 [==============================] - 5s 10ms/step - loss: 6.2109e-04 - accuracy: 1.0000\n",
            "Epoch 41/500\n",
            "469/469 [==============================] - 4s 9ms/step - loss: 5.9712e-04 - accuracy: 1.0000\n",
            "Epoch 42/500\n",
            "469/469 [==============================] - 6s 12ms/step - loss: 5.8793e-04 - accuracy: 1.0000\n",
            "Epoch 43/500\n",
            "469/469 [==============================] - 5s 10ms/step - loss: 5.7052e-04 - accuracy: 1.0000\n",
            "Epoch 44/500\n",
            "469/469 [==============================] - 7s 14ms/step - loss: 5.5513e-04 - accuracy: 1.0000\n",
            "Epoch 45/500\n",
            "469/469 [==============================] - 7s 16ms/step - loss: 5.3722e-04 - accuracy: 1.0000\n",
            "Epoch 46/500\n",
            "469/469 [==============================] - 7s 15ms/step - loss: 5.2826e-04 - accuracy: 1.0000\n",
            "Epoch 47/500\n",
            "469/469 [==============================] - 5s 10ms/step - loss: 5.1408e-04 - accuracy: 1.0000\n",
            "Epoch 48/500\n",
            "469/469 [==============================] - 5s 10ms/step - loss: 4.9620e-04 - accuracy: 1.0000\n",
            "Epoch 49/500\n",
            "469/469 [==============================] - 7s 15ms/step - loss: 4.8858e-04 - accuracy: 1.0000\n",
            "Epoch 50/500\n",
            "469/469 [==============================] - 5s 10ms/step - loss: 4.7994e-04 - accuracy: 1.0000\n",
            "Epoch 51/500\n",
            "469/469 [==============================] - 6s 12ms/step - loss: 4.6844e-04 - accuracy: 1.0000\n",
            "Epoch 52/500\n",
            "469/469 [==============================] - 5s 10ms/step - loss: 4.5318e-04 - accuracy: 1.0000\n",
            "Epoch 53/500\n",
            "469/469 [==============================] - 5s 12ms/step - loss: 4.4470e-04 - accuracy: 1.0000\n",
            "Epoch 54/500\n",
            "469/469 [==============================] - 6s 12ms/step - loss: 4.3762e-04 - accuracy: 1.0000\n",
            "Epoch 55/500\n",
            "469/469 [==============================] - 5s 10ms/step - loss: 4.2679e-04 - accuracy: 1.0000\n",
            "Epoch 56/500\n",
            "469/469 [==============================] - 6s 13ms/step - loss: 4.1809e-04 - accuracy: 1.0000\n",
            "Epoch 57/500\n",
            "469/469 [==============================] - 6s 13ms/step - loss: 4.0947e-04 - accuracy: 1.0000\n",
            "Epoch 58/500\n",
            "469/469 [==============================] - 6s 13ms/step - loss: 4.0073e-04 - accuracy: 1.0000\n",
            "Epoch 59/500\n",
            "469/469 [==============================] - 5s 10ms/step - loss: 3.9328e-04 - accuracy: 1.0000\n",
            "Epoch 60/500\n",
            "469/469 [==============================] - 4s 10ms/step - loss: 3.8593e-04 - accuracy: 1.0000\n",
            "Epoch 61/500\n",
            "469/469 [==============================] - 6s 12ms/step - loss: 3.7832e-04 - accuracy: 1.0000\n",
            "Epoch 62/500\n",
            "469/469 [==============================] - 5s 10ms/step - loss: 3.6862e-04 - accuracy: 1.0000\n",
            "Epoch 63/500\n",
            "469/469 [==============================] - 5s 11ms/step - loss: 3.6264e-04 - accuracy: 1.0000\n",
            "Epoch 64/500\n",
            "469/469 [==============================] - 6s 13ms/step - loss: 3.5597e-04 - accuracy: 1.0000\n",
            "Epoch 65/500\n",
            "469/469 [==============================] - 4s 10ms/step - loss: 3.4830e-04 - accuracy: 1.0000\n",
            "Epoch 66/500\n",
            "469/469 [==============================] - 6s 13ms/step - loss: 3.4545e-04 - accuracy: 1.0000\n",
            "Epoch 67/500\n",
            "469/469 [==============================] - 5s 10ms/step - loss: 3.3728e-04 - accuracy: 1.0000\n",
            "Epoch 68/500\n",
            "469/469 [==============================] - 5s 11ms/step - loss: 3.3206e-04 - accuracy: 1.0000\n",
            "Epoch 69/500\n",
            "469/469 [==============================] - 6s 12ms/step - loss: 3.2837e-04 - accuracy: 1.0000\n",
            "Epoch 70/500\n",
            "469/469 [==============================] - 5s 10ms/step - loss: 3.1999e-04 - accuracy: 1.0000\n",
            "Epoch 71/500\n",
            "469/469 [==============================] - 6s 12ms/step - loss: 3.1501e-04 - accuracy: 1.0000\n",
            "Epoch 72/500\n",
            "469/469 [==============================] - 5s 11ms/step - loss: 3.1139e-04 - accuracy: 1.0000\n",
            "Epoch 73/500\n",
            "469/469 [==============================] - 5s 11ms/step - loss: 3.0586e-04 - accuracy: 1.0000\n",
            "Epoch 74/500\n",
            "469/469 [==============================] - 6s 12ms/step - loss: 3.0181e-04 - accuracy: 1.0000\n",
            "Epoch 75/500\n",
            "469/469 [==============================] - 5s 10ms/step - loss: 2.9593e-04 - accuracy: 1.0000\n",
            "Epoch 76/500\n",
            "469/469 [==============================] - 6s 13ms/step - loss: 2.9178e-04 - accuracy: 1.0000\n",
            "Epoch 77/500\n",
            "469/469 [==============================] - 5s 10ms/step - loss: 2.8819e-04 - accuracy: 1.0000\n",
            "Epoch 78/500\n",
            "469/469 [==============================] - 5s 11ms/step - loss: 2.8332e-04 - accuracy: 1.0000\n",
            "Epoch 79/500\n",
            "469/469 [==============================] - 6s 12ms/step - loss: 2.7976e-04 - accuracy: 1.0000\n",
            "Epoch 80/500\n",
            "469/469 [==============================] - 5s 11ms/step - loss: 2.7665e-04 - accuracy: 1.0000\n",
            "Epoch 81/500\n",
            "469/469 [==============================] - 6s 13ms/step - loss: 2.7115e-04 - accuracy: 1.0000\n",
            "Epoch 82/500\n",
            "469/469 [==============================] - 5s 10ms/step - loss: 2.6705e-04 - accuracy: 1.0000\n",
            "Epoch 83/500\n",
            "469/469 [==============================] - 5s 11ms/step - loss: 2.6404e-04 - accuracy: 1.0000\n",
            "Epoch 84/500\n",
            "469/469 [==============================] - 6s 12ms/step - loss: 2.5989e-04 - accuracy: 1.0000\n",
            "Epoch 85/500\n",
            "469/469 [==============================] - 5s 11ms/step - loss: 2.5727e-04 - accuracy: 1.0000\n",
            "Epoch 86/500\n",
            "469/469 [==============================] - 6s 13ms/step - loss: 2.5194e-04 - accuracy: 1.0000\n",
            "Epoch 87/500\n",
            "469/469 [==============================] - 5s 10ms/step - loss: 2.4975e-04 - accuracy: 1.0000\n",
            "Epoch 88/500\n",
            "469/469 [==============================] - 6s 12ms/step - loss: 2.4675e-04 - accuracy: 1.0000\n",
            "Epoch 89/500\n",
            "469/469 [==============================] - 7s 15ms/step - loss: 2.4404e-04 - accuracy: 1.0000\n",
            "Epoch 90/500\n",
            "469/469 [==============================] - 5s 11ms/step - loss: 2.3963e-04 - accuracy: 1.0000\n",
            "Epoch 91/500\n",
            "469/469 [==============================] - 6s 13ms/step - loss: 2.3752e-04 - accuracy: 1.0000\n",
            "Epoch 92/500\n",
            "469/469 [==============================] - 5s 11ms/step - loss: 2.3376e-04 - accuracy: 1.0000\n",
            "Epoch 93/500\n",
            "469/469 [==============================] - 5s 11ms/step - loss: 2.3076e-04 - accuracy: 1.0000\n",
            "Epoch 94/500\n",
            "469/469 [==============================] - 6s 13ms/step - loss: 2.2843e-04 - accuracy: 1.0000\n",
            "Epoch 95/500\n",
            "469/469 [==============================] - 5s 11ms/step - loss: 2.2510e-04 - accuracy: 1.0000\n",
            "Epoch 96/500\n",
            "469/469 [==============================] - 6s 13ms/step - loss: 2.2325e-04 - accuracy: 1.0000\n",
            "Epoch 97/500\n",
            "469/469 [==============================] - 5s 11ms/step - loss: 2.1996e-04 - accuracy: 1.0000\n",
            "Epoch 98/500\n",
            "469/469 [==============================] - 5s 12ms/step - loss: 2.1712e-04 - accuracy: 1.0000\n",
            "Epoch 99/500\n",
            "469/469 [==============================] - 5s 11ms/step - loss: 2.1512e-04 - accuracy: 1.0000\n",
            "Epoch 100/500\n",
            "469/469 [==============================] - 5s 11ms/step - loss: 2.1290e-04 - accuracy: 1.0000\n",
            "Epoch 101/500\n",
            "469/469 [==============================] - 6s 13ms/step - loss: 2.1054e-04 - accuracy: 1.0000\n",
            "Epoch 102/500\n",
            "469/469 [==============================] - 5s 11ms/step - loss: 2.0778e-04 - accuracy: 1.0000\n",
            "Epoch 103/500\n",
            "469/469 [==============================] - 6s 12ms/step - loss: 2.0532e-04 - accuracy: 1.0000\n",
            "Epoch 104/500\n",
            "469/469 [==============================] - 5s 11ms/step - loss: 2.0349e-04 - accuracy: 1.0000\n",
            "Epoch 105/500\n",
            "469/469 [==============================] - 5s 10ms/step - loss: 2.0054e-04 - accuracy: 1.0000\n",
            "Epoch 106/500\n",
            "469/469 [==============================] - 6s 13ms/step - loss: 1.9869e-04 - accuracy: 1.0000\n",
            "Epoch 107/500\n",
            "469/469 [==============================] - 5s 11ms/step - loss: 1.9649e-04 - accuracy: 1.0000\n",
            "Epoch 108/500\n",
            "469/469 [==============================] - 6s 13ms/step - loss: 1.9433e-04 - accuracy: 1.0000\n",
            "Epoch 109/500\n",
            "469/469 [==============================] - 5s 11ms/step - loss: 1.9242e-04 - accuracy: 1.0000\n",
            "Epoch 110/500\n",
            "469/469 [==============================] - 5s 10ms/step - loss: 1.9040e-04 - accuracy: 1.0000\n",
            "Epoch 111/500\n",
            "469/469 [==============================] - 6s 13ms/step - loss: 1.8831e-04 - accuracy: 1.0000\n",
            "Epoch 112/500\n",
            "469/469 [==============================] - 5s 11ms/step - loss: 1.8676e-04 - accuracy: 1.0000\n",
            "Epoch 113/500\n",
            "469/469 [==============================] - 6s 13ms/step - loss: 1.8446e-04 - accuracy: 1.0000\n",
            "Epoch 114/500\n",
            "469/469 [==============================] - 5s 10ms/step - loss: 1.8327e-04 - accuracy: 1.0000\n",
            "Epoch 115/500\n",
            "469/469 [==============================] - 5s 10ms/step - loss: 1.8099e-04 - accuracy: 1.0000\n",
            "Epoch 116/500\n",
            "469/469 [==============================] - 6s 12ms/step - loss: 1.7932e-04 - accuracy: 1.0000\n",
            "Epoch 117/500\n",
            "469/469 [==============================] - 5s 10ms/step - loss: 1.7750e-04 - accuracy: 1.0000\n",
            "Epoch 118/500\n",
            "469/469 [==============================] - 6s 12ms/step - loss: 1.7602e-04 - accuracy: 1.0000\n",
            "Epoch 119/500\n",
            "469/469 [==============================] - 6s 14ms/step - loss: 1.7422e-04 - accuracy: 1.0000\n",
            "Epoch 120/500\n",
            "469/469 [==============================] - 5s 10ms/step - loss: 1.7251e-04 - accuracy: 1.0000\n",
            "Epoch 121/500\n",
            "469/469 [==============================] - 6s 13ms/step - loss: 1.7102e-04 - accuracy: 1.0000\n",
            "Epoch 122/500\n",
            "469/469 [==============================] - 5s 10ms/step - loss: 1.6920e-04 - accuracy: 1.0000\n",
            "Epoch 123/500\n",
            "469/469 [==============================] - 6s 12ms/step - loss: 1.6713e-04 - accuracy: 1.0000\n",
            "Epoch 124/500\n",
            "469/469 [==============================] - 5s 10ms/step - loss: 1.6610e-04 - accuracy: 1.0000\n",
            "Epoch 125/500\n",
            "469/469 [==============================] - 5s 11ms/step - loss: 1.6477e-04 - accuracy: 1.0000\n",
            "Epoch 126/500\n",
            "469/469 [==============================] - 6s 12ms/step - loss: 1.6344e-04 - accuracy: 1.0000\n",
            "Epoch 127/500\n",
            "469/469 [==============================] - 5s 11ms/step - loss: 1.6166e-04 - accuracy: 1.0000\n",
            "Epoch 128/500\n",
            "469/469 [==============================] - 6s 13ms/step - loss: 1.6035e-04 - accuracy: 1.0000\n",
            "Epoch 129/500\n",
            "469/469 [==============================] - 5s 10ms/step - loss: 1.5903e-04 - accuracy: 1.0000\n",
            "Epoch 130/500\n",
            "469/469 [==============================] - 5s 11ms/step - loss: 1.5709e-04 - accuracy: 1.0000\n",
            "Epoch 131/500\n",
            "469/469 [==============================] - 6s 12ms/step - loss: 1.5556e-04 - accuracy: 1.0000\n",
            "Epoch 132/500\n",
            "469/469 [==============================] - 5s 10ms/step - loss: 1.5453e-04 - accuracy: 1.0000\n",
            "Epoch 133/500\n",
            "469/469 [==============================] - 6s 13ms/step - loss: 1.5350e-04 - accuracy: 1.0000\n",
            "Epoch 134/500\n",
            "469/469 [==============================] - 5s 11ms/step - loss: 1.5200e-04 - accuracy: 1.0000\n",
            "Epoch 135/500\n",
            "469/469 [==============================] - 5s 11ms/step - loss: 1.5075e-04 - accuracy: 1.0000\n",
            "Epoch 136/500\n",
            "469/469 [==============================] - 6s 12ms/step - loss: 1.4950e-04 - accuracy: 1.0000\n",
            "Epoch 137/500\n",
            "469/469 [==============================] - 5s 10ms/step - loss: 1.4821e-04 - accuracy: 1.0000\n",
            "Epoch 138/500\n",
            "469/469 [==============================] - 6s 13ms/step - loss: 1.4716e-04 - accuracy: 1.0000\n",
            "Epoch 139/500\n",
            "469/469 [==============================] - 5s 11ms/step - loss: 1.4588e-04 - accuracy: 1.0000\n",
            "Epoch 140/500\n",
            "469/469 [==============================] - 5s 10ms/step - loss: 1.4473e-04 - accuracy: 1.0000\n",
            "Epoch 141/500\n",
            "469/469 [==============================] - 6s 13ms/step - loss: 1.4341e-04 - accuracy: 1.0000\n",
            "Epoch 142/500\n",
            "469/469 [==============================] - 5s 11ms/step - loss: 1.4247e-04 - accuracy: 1.0000\n",
            "Epoch 143/500\n",
            "469/469 [==============================] - 6s 12ms/step - loss: 1.4112e-04 - accuracy: 1.0000\n",
            "Epoch 144/500\n",
            "469/469 [==============================] - 5s 11ms/step - loss: 1.4009e-04 - accuracy: 1.0000\n",
            "Epoch 145/500\n",
            "469/469 [==============================] - 5s 11ms/step - loss: 1.3904e-04 - accuracy: 1.0000\n",
            "Epoch 146/500\n",
            "469/469 [==============================] - 6s 12ms/step - loss: 1.3783e-04 - accuracy: 1.0000\n",
            "Epoch 147/500\n",
            "469/469 [==============================] - 5s 11ms/step - loss: 1.3712e-04 - accuracy: 1.0000\n",
            "Epoch 148/500\n",
            "469/469 [==============================] - 6s 13ms/step - loss: 1.3600e-04 - accuracy: 1.0000\n",
            "Epoch 149/500\n",
            "469/469 [==============================] - 5s 11ms/step - loss: 1.3475e-04 - accuracy: 1.0000\n",
            "Epoch 150/500\n",
            "469/469 [==============================] - 7s 14ms/step - loss: 1.3358e-04 - accuracy: 1.0000\n",
            "Epoch 151/500\n",
            "469/469 [==============================] - 5s 11ms/step - loss: 1.3290e-04 - accuracy: 1.0000\n",
            "Epoch 152/500\n",
            "469/469 [==============================] - 5s 10ms/step - loss: 1.3186e-04 - accuracy: 1.0000\n",
            "Epoch 153/500\n",
            "469/469 [==============================] - 6s 14ms/step - loss: 1.3082e-04 - accuracy: 1.0000\n",
            "Epoch 154/500\n",
            "469/469 [==============================] - 5s 10ms/step - loss: 1.3007e-04 - accuracy: 1.0000\n",
            "Epoch 155/500\n",
            "469/469 [==============================] - 6s 13ms/step - loss: 1.2878e-04 - accuracy: 1.0000\n",
            "Epoch 156/500\n",
            "469/469 [==============================] - 5s 10ms/step - loss: 1.2794e-04 - accuracy: 1.0000\n",
            "Epoch 157/500\n",
            "469/469 [==============================] - 5s 10ms/step - loss: 1.2729e-04 - accuracy: 1.0000\n",
            "Epoch 158/500\n",
            "469/469 [==============================] - 6s 12ms/step - loss: 1.2598e-04 - accuracy: 1.0000\n",
            "Epoch 159/500\n",
            "469/469 [==============================] - 5s 10ms/step - loss: 1.2524e-04 - accuracy: 1.0000\n",
            "Epoch 160/500\n",
            "469/469 [==============================] - 6s 12ms/step - loss: 1.2424e-04 - accuracy: 1.0000\n",
            "Epoch 161/500\n",
            "469/469 [==============================] - 5s 11ms/step - loss: 1.2334e-04 - accuracy: 1.0000\n",
            "Epoch 162/500\n",
            "469/469 [==============================] - 5s 10ms/step - loss: 1.2251e-04 - accuracy: 1.0000\n",
            "Epoch 163/500\n",
            "469/469 [==============================] - 6s 13ms/step - loss: 1.2146e-04 - accuracy: 1.0000\n",
            "Epoch 164/500\n",
            "469/469 [==============================] - 5s 11ms/step - loss: 1.2075e-04 - accuracy: 1.0000\n",
            "Epoch 165/500\n",
            "469/469 [==============================] - 6s 13ms/step - loss: 1.2006e-04 - accuracy: 1.0000\n",
            "Epoch 166/500\n",
            "469/469 [==============================] - 5s 11ms/step - loss: 1.1924e-04 - accuracy: 1.0000\n",
            "Epoch 167/500\n",
            "469/469 [==============================] - 5s 11ms/step - loss: 1.1836e-04 - accuracy: 1.0000\n",
            "Epoch 168/500\n",
            "469/469 [==============================] - 6s 13ms/step - loss: 1.1754e-04 - accuracy: 1.0000\n",
            "Epoch 169/500\n",
            "469/469 [==============================] - 5s 11ms/step - loss: 1.1683e-04 - accuracy: 1.0000\n",
            "Epoch 170/500\n",
            "469/469 [==============================] - 6s 13ms/step - loss: 1.1584e-04 - accuracy: 1.0000\n",
            "Epoch 171/500\n",
            "469/469 [==============================] - 5s 11ms/step - loss: 1.1508e-04 - accuracy: 1.0000\n",
            "Epoch 172/500\n",
            "469/469 [==============================] - 5s 12ms/step - loss: 1.1468e-04 - accuracy: 1.0000\n",
            "Epoch 173/500\n",
            "469/469 [==============================] - 6s 13ms/step - loss: 1.1372e-04 - accuracy: 1.0000\n",
            "Epoch 174/500\n",
            "469/469 [==============================] - 5s 11ms/step - loss: 1.1300e-04 - accuracy: 1.0000\n",
            "Epoch 175/500\n",
            "469/469 [==============================] - 6s 13ms/step - loss: 1.1224e-04 - accuracy: 1.0000\n",
            "Epoch 176/500\n",
            "469/469 [==============================] - 5s 10ms/step - loss: 1.1160e-04 - accuracy: 1.0000\n",
            "Epoch 177/500\n",
            "469/469 [==============================] - 5s 12ms/step - loss: 1.1060e-04 - accuracy: 1.0000\n",
            "Epoch 178/500\n",
            "469/469 [==============================] - 6s 12ms/step - loss: 1.1002e-04 - accuracy: 1.0000\n",
            "Epoch 179/500\n",
            "469/469 [==============================] - 5s 10ms/step - loss: 1.0934e-04 - accuracy: 1.0000\n",
            "Epoch 180/500\n",
            "469/469 [==============================] - 7s 15ms/step - loss: 1.0893e-04 - accuracy: 1.0000\n",
            "Epoch 181/500\n",
            "469/469 [==============================] - 5s 10ms/step - loss: 1.0787e-04 - accuracy: 1.0000\n",
            "Epoch 182/500\n",
            "469/469 [==============================] - 5s 10ms/step - loss: 1.0742e-04 - accuracy: 1.0000\n",
            "Epoch 183/500\n",
            "469/469 [==============================] - 6s 13ms/step - loss: 1.0667e-04 - accuracy: 1.0000\n",
            "Epoch 184/500\n",
            "469/469 [==============================] - 5s 10ms/step - loss: 1.0594e-04 - accuracy: 1.0000\n",
            "Epoch 185/500\n",
            "469/469 [==============================] - 6s 12ms/step - loss: 1.0547e-04 - accuracy: 1.0000\n",
            "Epoch 186/500\n",
            "469/469 [==============================] - 5s 11ms/step - loss: 1.0473e-04 - accuracy: 1.0000\n",
            "Epoch 187/500\n",
            "469/469 [==============================] - 5s 10ms/step - loss: 1.0387e-04 - accuracy: 1.0000\n",
            "Epoch 188/500\n",
            "469/469 [==============================] - 6s 13ms/step - loss: 1.0346e-04 - accuracy: 1.0000\n",
            "Epoch 189/500\n",
            "469/469 [==============================] - 5s 10ms/step - loss: 1.0284e-04 - accuracy: 1.0000\n",
            "Epoch 190/500\n",
            "469/469 [==============================] - 6s 12ms/step - loss: 1.0225e-04 - accuracy: 1.0000\n",
            "Epoch 191/500\n",
            "469/469 [==============================] - 5s 11ms/step - loss: 1.0162e-04 - accuracy: 1.0000\n",
            "Epoch 192/500\n",
            "469/469 [==============================] - 5s 10ms/step - loss: 1.0098e-04 - accuracy: 1.0000\n",
            "Epoch 193/500\n",
            "469/469 [==============================] - 6s 13ms/step - loss: 1.0040e-04 - accuracy: 1.0000\n",
            "Epoch 194/500\n",
            "469/469 [==============================] - 5s 10ms/step - loss: 9.9938e-05 - accuracy: 1.0000\n",
            "Epoch 195/500\n",
            "469/469 [==============================] - 6s 12ms/step - loss: 9.9314e-05 - accuracy: 1.0000\n",
            "Epoch 196/500\n",
            "469/469 [==============================] - 5s 11ms/step - loss: 9.8738e-05 - accuracy: 1.0000\n",
            "Epoch 197/500\n",
            "469/469 [==============================] - 5s 11ms/step - loss: 9.8141e-05 - accuracy: 1.0000\n",
            "Epoch 198/500\n",
            "469/469 [==============================] - 6s 13ms/step - loss: 9.7552e-05 - accuracy: 1.0000\n",
            "Epoch 199/500\n",
            "469/469 [==============================] - 5s 11ms/step - loss: 9.7141e-05 - accuracy: 1.0000\n",
            "Epoch 200/500\n",
            "469/469 [==============================] - 6s 12ms/step - loss: 9.6517e-05 - accuracy: 1.0000\n",
            "Epoch 201/500\n",
            "469/469 [==============================] - 5s 11ms/step - loss: 9.5817e-05 - accuracy: 1.0000\n",
            "Epoch 202/500\n",
            "469/469 [==============================] - 5s 10ms/step - loss: 9.5544e-05 - accuracy: 1.0000\n",
            "Epoch 203/500\n",
            "469/469 [==============================] - 6s 13ms/step - loss: 9.4640e-05 - accuracy: 1.0000\n",
            "Epoch 204/500\n",
            "469/469 [==============================] - 5s 10ms/step - loss: 9.4330e-05 - accuracy: 1.0000\n",
            "Epoch 205/500\n",
            "469/469 [==============================] - 6s 12ms/step - loss: 9.3817e-05 - accuracy: 1.0000\n",
            "Epoch 206/500\n",
            "469/469 [==============================] - 5s 10ms/step - loss: 9.3417e-05 - accuracy: 1.0000\n",
            "Epoch 207/500\n",
            "469/469 [==============================] - 5s 10ms/step - loss: 9.2799e-05 - accuracy: 1.0000\n",
            "Epoch 208/500\n",
            "469/469 [==============================] - 6s 13ms/step - loss: 9.2334e-05 - accuracy: 1.0000\n",
            "Epoch 209/500\n",
            "469/469 [==============================] - 5s 10ms/step - loss: 9.1833e-05 - accuracy: 1.0000\n",
            "Epoch 210/500\n",
            "469/469 [==============================] - 6s 12ms/step - loss: 9.1292e-05 - accuracy: 1.0000\n",
            "Epoch 211/500\n",
            "469/469 [==============================] - 7s 14ms/step - loss: 9.0847e-05 - accuracy: 1.0000\n",
            "Epoch 212/500\n",
            "469/469 [==============================] - 5s 10ms/step - loss: 9.0307e-05 - accuracy: 1.0000\n",
            "Epoch 213/500\n",
            "469/469 [==============================] - 6s 13ms/step - loss: 8.9878e-05 - accuracy: 1.0000\n",
            "Epoch 214/500\n",
            "469/469 [==============================] - 5s 11ms/step - loss: 8.9412e-05 - accuracy: 1.0000\n",
            "Epoch 215/500\n",
            "469/469 [==============================] - 5s 10ms/step - loss: 8.8687e-05 - accuracy: 1.0000\n",
            "Epoch 216/500\n",
            "469/469 [==============================] - 6s 13ms/step - loss: 8.8608e-05 - accuracy: 1.0000\n",
            "Epoch 217/500\n",
            "469/469 [==============================] - 5s 11ms/step - loss: 8.7962e-05 - accuracy: 1.0000\n",
            "Epoch 218/500\n",
            "469/469 [==============================] - 6s 13ms/step - loss: 8.7578e-05 - accuracy: 1.0000\n",
            "Epoch 219/500\n",
            "469/469 [==============================] - 5s 10ms/step - loss: 8.7119e-05 - accuracy: 1.0000\n",
            "Epoch 220/500\n",
            "469/469 [==============================] - 5s 10ms/step - loss: 8.6610e-05 - accuracy: 1.0000\n",
            "Epoch 221/500\n",
            "469/469 [==============================] - 6s 13ms/step - loss: 8.6218e-05 - accuracy: 1.0000\n",
            "Epoch 222/500\n",
            "469/469 [==============================] - 5s 11ms/step - loss: 8.5741e-05 - accuracy: 1.0000\n",
            "Epoch 223/500\n",
            "469/469 [==============================] - 6s 13ms/step - loss: 8.5373e-05 - accuracy: 1.0000\n",
            "Epoch 224/500\n",
            "469/469 [==============================] - 5s 11ms/step - loss: 8.4878e-05 - accuracy: 1.0000\n",
            "Epoch 225/500\n",
            "469/469 [==============================] - 5s 11ms/step - loss: 8.4442e-05 - accuracy: 1.0000\n",
            "Epoch 226/500\n",
            "469/469 [==============================] - 6s 13ms/step - loss: 8.4074e-05 - accuracy: 1.0000\n",
            "Epoch 227/500\n",
            "469/469 [==============================] - 5s 10ms/step - loss: 8.3638e-05 - accuracy: 1.0000\n",
            "Epoch 228/500\n",
            "469/469 [==============================] - 6s 13ms/step - loss: 8.3167e-05 - accuracy: 1.0000\n",
            "Epoch 229/500\n",
            "469/469 [==============================] - 5s 11ms/step - loss: 8.2803e-05 - accuracy: 1.0000\n",
            "Epoch 230/500\n",
            "469/469 [==============================] - 5s 11ms/step - loss: 8.2349e-05 - accuracy: 1.0000\n",
            "Epoch 231/500\n",
            "469/469 [==============================] - 6s 13ms/step - loss: 8.2058e-05 - accuracy: 1.0000\n",
            "Epoch 232/500\n",
            "469/469 [==============================] - 5s 11ms/step - loss: 8.1503e-05 - accuracy: 1.0000\n",
            "Epoch 233/500\n",
            "469/469 [==============================] - 6s 13ms/step - loss: 8.1196e-05 - accuracy: 1.0000\n",
            "Epoch 234/500\n",
            "469/469 [==============================] - 5s 10ms/step - loss: 8.0783e-05 - accuracy: 1.0000\n",
            "Epoch 235/500\n",
            "469/469 [==============================] - 5s 11ms/step - loss: 8.0460e-05 - accuracy: 1.0000\n",
            "Epoch 236/500\n",
            "469/469 [==============================] - 6s 12ms/step - loss: 8.0096e-05 - accuracy: 1.0000\n",
            "Epoch 237/500\n",
            "469/469 [==============================] - 5s 10ms/step - loss: 7.9689e-05 - accuracy: 1.0000\n",
            "Epoch 238/500\n",
            "469/469 [==============================] - 6s 13ms/step - loss: 7.9398e-05 - accuracy: 1.0000\n",
            "Epoch 239/500\n",
            "469/469 [==============================] - 5s 10ms/step - loss: 7.8971e-05 - accuracy: 1.0000\n",
            "Epoch 240/500\n",
            "469/469 [==============================] - 5s 11ms/step - loss: 7.8518e-05 - accuracy: 1.0000\n",
            "Epoch 241/500\n",
            "469/469 [==============================] - 7s 15ms/step - loss: 7.8052e-05 - accuracy: 1.0000\n",
            "Epoch 242/500\n",
            "469/469 [==============================] - 5s 10ms/step - loss: 7.7743e-05 - accuracy: 1.0000\n",
            "Epoch 243/500\n",
            "469/469 [==============================] - 5s 11ms/step - loss: 7.7476e-05 - accuracy: 1.0000\n",
            "Epoch 244/500\n",
            "469/469 [==============================] - 6s 12ms/step - loss: 7.7016e-05 - accuracy: 1.0000\n",
            "Epoch 245/500\n",
            "469/469 [==============================] - 5s 10ms/step - loss: 7.6759e-05 - accuracy: 1.0000\n",
            "Epoch 246/500\n",
            "469/469 [==============================] - 6s 13ms/step - loss: 7.6363e-05 - accuracy: 1.0000\n",
            "Epoch 247/500\n",
            "469/469 [==============================] - 5s 10ms/step - loss: 7.6025e-05 - accuracy: 1.0000\n",
            "Epoch 248/500\n",
            "469/469 [==============================] - 5s 12ms/step - loss: 7.5681e-05 - accuracy: 1.0000\n",
            "Epoch 249/500\n",
            "469/469 [==============================] - 6s 12ms/step - loss: 7.5207e-05 - accuracy: 1.0000\n",
            "Epoch 250/500\n",
            "469/469 [==============================] - 5s 11ms/step - loss: 7.4979e-05 - accuracy: 1.0000\n",
            "Epoch 251/500\n",
            "469/469 [==============================] - 6s 13ms/step - loss: 7.4658e-05 - accuracy: 1.0000\n",
            "Epoch 252/500\n",
            "469/469 [==============================] - 5s 10ms/step - loss: 7.4446e-05 - accuracy: 1.0000\n",
            "Epoch 253/500\n",
            "469/469 [==============================] - 6s 12ms/step - loss: 7.4062e-05 - accuracy: 1.0000\n",
            "Epoch 254/500\n",
            "469/469 [==============================] - 6s 12ms/step - loss: 7.3749e-05 - accuracy: 1.0000\n",
            "Epoch 255/500\n",
            "469/469 [==============================] - 5s 11ms/step - loss: 7.3331e-05 - accuracy: 1.0000\n",
            "Epoch 256/500\n",
            "469/469 [==============================] - 6s 13ms/step - loss: 7.2967e-05 - accuracy: 1.0000\n",
            "Epoch 257/500\n",
            "469/469 [==============================] - 5s 11ms/step - loss: 7.2737e-05 - accuracy: 1.0000\n",
            "Epoch 258/500\n",
            "469/469 [==============================] - 6s 12ms/step - loss: 7.2423e-05 - accuracy: 1.0000\n",
            "Epoch 259/500\n",
            "469/469 [==============================] - 5s 12ms/step - loss: 7.2059e-05 - accuracy: 1.0000\n",
            "Epoch 260/500\n",
            "469/469 [==============================] - 5s 11ms/step - loss: 7.1734e-05 - accuracy: 1.0000\n",
            "Epoch 261/500\n",
            "469/469 [==============================] - 6s 13ms/step - loss: 7.1438e-05 - accuracy: 1.0000\n",
            "Epoch 262/500\n",
            "469/469 [==============================] - 5s 10ms/step - loss: 7.1181e-05 - accuracy: 1.0000\n",
            "Epoch 263/500\n",
            "469/469 [==============================] - 6s 12ms/step - loss: 7.0643e-05 - accuracy: 1.0000\n",
            "Epoch 264/500\n",
            "469/469 [==============================] - 5s 12ms/step - loss: 7.0538e-05 - accuracy: 1.0000\n",
            "Epoch 265/500\n",
            "469/469 [==============================] - 5s 11ms/step - loss: 7.0332e-05 - accuracy: 1.0000\n",
            "Epoch 266/500\n",
            "469/469 [==============================] - 6s 13ms/step - loss: 6.9987e-05 - accuracy: 1.0000\n",
            "Epoch 267/500\n",
            "469/469 [==============================] - 5s 10ms/step - loss: 6.9664e-05 - accuracy: 1.0000\n",
            "Epoch 268/500\n",
            "469/469 [==============================] - 6s 12ms/step - loss: 6.9346e-05 - accuracy: 1.0000\n",
            "Epoch 269/500\n",
            "469/469 [==============================] - 5s 11ms/step - loss: 6.9128e-05 - accuracy: 1.0000\n",
            "Epoch 270/500\n",
            "469/469 [==============================] - 6s 13ms/step - loss: 6.8741e-05 - accuracy: 1.0000\n",
            "Epoch 271/500\n",
            "469/469 [==============================] - 7s 14ms/step - loss: 6.8538e-05 - accuracy: 1.0000\n",
            "Epoch 272/500\n",
            "469/469 [==============================] - 5s 11ms/step - loss: 6.8092e-05 - accuracy: 1.0000\n",
            "Epoch 273/500\n",
            "469/469 [==============================] - 6s 13ms/step - loss: 6.7945e-05 - accuracy: 1.0000\n",
            "Epoch 274/500\n",
            "469/469 [==============================] - 5s 11ms/step - loss: 6.7516e-05 - accuracy: 1.0000\n",
            "Epoch 275/500\n",
            "469/469 [==============================] - 5s 11ms/step - loss: 6.7354e-05 - accuracy: 1.0000\n",
            "Epoch 276/500\n",
            "469/469 [==============================] - 6s 13ms/step - loss: 6.7135e-05 - accuracy: 1.0000\n",
            "Epoch 277/500\n",
            "469/469 [==============================] - 5s 11ms/step - loss: 6.6786e-05 - accuracy: 1.0000\n",
            "Epoch 278/500\n",
            "469/469 [==============================] - 9s 20ms/step - loss: 6.6533e-05 - accuracy: 1.0000\n",
            "Epoch 279/500\n",
            "469/469 [==============================] - 5s 11ms/step - loss: 6.6297e-05 - accuracy: 1.0000\n",
            "Epoch 280/500\n",
            "469/469 [==============================] - 6s 13ms/step - loss: 6.6039e-05 - accuracy: 1.0000\n",
            "Epoch 281/500\n",
            "469/469 [==============================] - 5s 11ms/step - loss: 6.5744e-05 - accuracy: 1.0000\n",
            "Epoch 282/500\n",
            "469/469 [==============================] - 6s 13ms/step - loss: 6.5519e-05 - accuracy: 1.0000\n",
            "Epoch 283/500\n",
            "469/469 [==============================] - 5s 12ms/step - loss: 6.5214e-05 - accuracy: 1.0000\n",
            "Epoch 284/500\n",
            "469/469 [==============================] - 5s 11ms/step - loss: 6.4945e-05 - accuracy: 1.0000\n",
            "Epoch 285/500\n",
            "469/469 [==============================] - 6s 13ms/step - loss: 6.4688e-05 - accuracy: 1.0000\n",
            "Epoch 286/500\n",
            "469/469 [==============================] - 5s 11ms/step - loss: 6.4521e-05 - accuracy: 1.0000\n",
            "Epoch 287/500\n",
            "469/469 [==============================] - 6s 13ms/step - loss: 6.4197e-05 - accuracy: 1.0000\n",
            "Epoch 288/500\n",
            "469/469 [==============================] - 5s 11ms/step - loss: 6.3999e-05 - accuracy: 1.0000\n",
            "Epoch 289/500\n",
            "469/469 [==============================] - 5s 11ms/step - loss: 6.3693e-05 - accuracy: 1.0000\n",
            "Epoch 290/500\n",
            "469/469 [==============================] - 6s 13ms/step - loss: 6.3458e-05 - accuracy: 1.0000\n",
            "Epoch 291/500\n",
            "469/469 [==============================] - 5s 11ms/step - loss: 6.3195e-05 - accuracy: 1.0000\n",
            "Epoch 292/500\n",
            "469/469 [==============================] - 6s 13ms/step - loss: 6.2996e-05 - accuracy: 1.0000\n",
            "Epoch 293/500\n",
            "469/469 [==============================] - 5s 11ms/step - loss: 6.2657e-05 - accuracy: 1.0000\n",
            "Epoch 294/500\n",
            "469/469 [==============================] - 6s 13ms/step - loss: 6.2514e-05 - accuracy: 1.0000\n",
            "Epoch 295/500\n",
            "469/469 [==============================] - 6s 13ms/step - loss: 6.2193e-05 - accuracy: 1.0000\n",
            "Epoch 296/500\n",
            "469/469 [==============================] - 5s 11ms/step - loss: 6.2066e-05 - accuracy: 1.0000\n",
            "Epoch 297/500\n",
            "469/469 [==============================] - 6s 13ms/step - loss: 6.1720e-05 - accuracy: 1.0000\n",
            "Epoch 298/500\n",
            "469/469 [==============================] - 6s 14ms/step - loss: 6.1571e-05 - accuracy: 1.0000\n",
            "Epoch 299/500\n",
            "469/469 [==============================] - 6s 13ms/step - loss: 6.1330e-05 - accuracy: 1.0000\n",
            "Epoch 300/500\n",
            "469/469 [==============================] - 5s 11ms/step - loss: 6.1093e-05 - accuracy: 1.0000\n",
            "Epoch 301/500\n",
            "469/469 [==============================] - 6s 12ms/step - loss: 6.0900e-05 - accuracy: 1.0000\n",
            "Epoch 302/500\n",
            "469/469 [==============================] - 6s 12ms/step - loss: 6.0667e-05 - accuracy: 1.0000\n",
            "Epoch 303/500\n",
            "469/469 [==============================] - 5s 11ms/step - loss: 6.0384e-05 - accuracy: 1.0000\n",
            "Epoch 304/500\n",
            "469/469 [==============================] - 6s 13ms/step - loss: 6.0172e-05 - accuracy: 1.0000\n",
            "Epoch 305/500\n",
            "469/469 [==============================] - 5s 11ms/step - loss: 5.9901e-05 - accuracy: 1.0000\n",
            "Epoch 306/500\n",
            "469/469 [==============================] - 6s 13ms/step - loss: 5.9697e-05 - accuracy: 1.0000\n",
            "Epoch 307/500\n",
            "469/469 [==============================] - 5s 11ms/step - loss: 5.9580e-05 - accuracy: 1.0000\n",
            "Epoch 308/500\n",
            "469/469 [==============================] - 5s 11ms/step - loss: 5.9246e-05 - accuracy: 1.0000\n",
            "Epoch 309/500\n",
            "469/469 [==============================] - 6s 13ms/step - loss: 5.9023e-05 - accuracy: 1.0000\n",
            "Epoch 310/500\n",
            "469/469 [==============================] - 5s 11ms/step - loss: 5.8848e-05 - accuracy: 1.0000\n",
            "Epoch 311/500\n",
            "469/469 [==============================] - 6s 14ms/step - loss: 5.8650e-05 - accuracy: 1.0000\n",
            "Epoch 312/500\n",
            "469/469 [==============================] - 5s 11ms/step - loss: 5.8447e-05 - accuracy: 1.0000\n",
            "Epoch 313/500\n",
            "469/469 [==============================] - 5s 11ms/step - loss: 5.8228e-05 - accuracy: 1.0000\n",
            "Epoch 314/500\n",
            "469/469 [==============================] - 6s 12ms/step - loss: 5.8095e-05 - accuracy: 1.0000\n",
            "Epoch 315/500\n",
            "469/469 [==============================] - 5s 11ms/step - loss: 5.7856e-05 - accuracy: 1.0000\n",
            "Epoch 316/500\n",
            "469/469 [==============================] - 6s 13ms/step - loss: 5.7661e-05 - accuracy: 1.0000\n",
            "Epoch 317/500\n",
            "469/469 [==============================] - 5s 11ms/step - loss: 5.7442e-05 - accuracy: 1.0000\n",
            "Epoch 318/500\n",
            "469/469 [==============================] - 6s 12ms/step - loss: 5.7231e-05 - accuracy: 1.0000\n",
            "Epoch 319/500\n",
            "469/469 [==============================] - 5s 12ms/step - loss: 5.6980e-05 - accuracy: 1.0000\n",
            "Epoch 320/500\n",
            "469/469 [==============================] - 5s 10ms/step - loss: 5.6730e-05 - accuracy: 1.0000\n",
            "Epoch 321/500\n",
            "469/469 [==============================] - 6s 13ms/step - loss: 5.6673e-05 - accuracy: 1.0000\n",
            "Epoch 322/500\n",
            "469/469 [==============================] - 5s 11ms/step - loss: 5.6419e-05 - accuracy: 1.0000\n",
            "Epoch 323/500\n",
            "469/469 [==============================] - 6s 13ms/step - loss: 5.6167e-05 - accuracy: 1.0000\n",
            "Epoch 324/500\n",
            "469/469 [==============================] - 5s 11ms/step - loss: 5.6055e-05 - accuracy: 1.0000\n",
            "Epoch 325/500\n",
            "469/469 [==============================] - 5s 11ms/step - loss: 5.5848e-05 - accuracy: 1.0000\n",
            "Epoch 326/500\n",
            "469/469 [==============================] - 7s 15ms/step - loss: 5.5646e-05 - accuracy: 1.0000\n",
            "Epoch 327/500\n",
            "469/469 [==============================] - 6s 12ms/step - loss: 5.5445e-05 - accuracy: 1.0000\n",
            "Epoch 328/500\n",
            "469/469 [==============================] - 6s 13ms/step - loss: 5.5291e-05 - accuracy: 1.0000\n",
            "Epoch 329/500\n",
            "469/469 [==============================] - 5s 11ms/step - loss: 5.5097e-05 - accuracy: 1.0000\n",
            "Epoch 330/500\n",
            "469/469 [==============================] - 6s 12ms/step - loss: 5.4856e-05 - accuracy: 1.0000\n",
            "Epoch 331/500\n",
            "469/469 [==============================] - 6s 12ms/step - loss: 5.4702e-05 - accuracy: 1.0000\n",
            "Epoch 332/500\n",
            "469/469 [==============================] - 5s 10ms/step - loss: 5.4444e-05 - accuracy: 1.0000\n",
            "Epoch 333/500\n",
            "469/469 [==============================] - 6s 13ms/step - loss: 5.4366e-05 - accuracy: 1.0000\n",
            "Epoch 334/500\n",
            "469/469 [==============================] - 5s 11ms/step - loss: 5.4133e-05 - accuracy: 1.0000\n",
            "Epoch 335/500\n",
            "469/469 [==============================] - 6s 13ms/step - loss: 5.3983e-05 - accuracy: 1.0000\n",
            "Epoch 336/500\n",
            "469/469 [==============================] - 6s 12ms/step - loss: 5.3727e-05 - accuracy: 1.0000\n",
            "Epoch 337/500\n",
            "469/469 [==============================] - 5s 11ms/step - loss: 5.3584e-05 - accuracy: 1.0000\n",
            "Epoch 338/500\n",
            "469/469 [==============================] - 6s 13ms/step - loss: 5.3459e-05 - accuracy: 1.0000\n",
            "Epoch 339/500\n",
            "469/469 [==============================] - 5s 11ms/step - loss: 5.3277e-05 - accuracy: 1.0000\n",
            "Epoch 340/500\n",
            "469/469 [==============================] - 6s 13ms/step - loss: 5.3060e-05 - accuracy: 1.0000\n",
            "Epoch 341/500\n",
            "469/469 [==============================] - 5s 11ms/step - loss: 5.2904e-05 - accuracy: 1.0000\n",
            "Epoch 342/500\n",
            "469/469 [==============================] - 5s 11ms/step - loss: 5.2750e-05 - accuracy: 1.0000\n",
            "Epoch 343/500\n",
            "469/469 [==============================] - 6s 13ms/step - loss: 5.2583e-05 - accuracy: 1.0000\n",
            "Epoch 344/500\n",
            "469/469 [==============================] - 5s 11ms/step - loss: 5.2372e-05 - accuracy: 1.0000\n",
            "Epoch 345/500\n",
            "469/469 [==============================] - 6s 13ms/step - loss: 5.2218e-05 - accuracy: 1.0000\n",
            "Epoch 346/500\n",
            "469/469 [==============================] - 5s 10ms/step - loss: 5.2032e-05 - accuracy: 1.0000\n",
            "Epoch 347/500\n",
            "469/469 [==============================] - 5s 11ms/step - loss: 5.1881e-05 - accuracy: 1.0000\n",
            "Epoch 348/500\n",
            "469/469 [==============================] - 6s 13ms/step - loss: 5.1730e-05 - accuracy: 1.0000\n",
            "Epoch 349/500\n",
            "469/469 [==============================] - 5s 11ms/step - loss: 5.1540e-05 - accuracy: 1.0000\n",
            "Epoch 350/500\n",
            "469/469 [==============================] - 6s 13ms/step - loss: 5.1361e-05 - accuracy: 1.0000\n",
            "Epoch 351/500\n",
            "469/469 [==============================] - 5s 11ms/step - loss: 5.1208e-05 - accuracy: 1.0000\n",
            "Epoch 352/500\n",
            "469/469 [==============================] - 5s 11ms/step - loss: 5.1056e-05 - accuracy: 1.0000\n",
            "Epoch 353/500\n",
            "469/469 [==============================] - 6s 13ms/step - loss: 5.0883e-05 - accuracy: 1.0000\n",
            "Epoch 354/500\n",
            "469/469 [==============================] - 5s 11ms/step - loss: 5.0675e-05 - accuracy: 1.0000\n",
            "Epoch 355/500\n",
            "469/469 [==============================] - 7s 15ms/step - loss: 5.0579e-05 - accuracy: 1.0000\n",
            "Epoch 356/500\n",
            "469/469 [==============================] - 6s 12ms/step - loss: 5.0376e-05 - accuracy: 1.0000\n",
            "Epoch 357/500\n",
            "469/469 [==============================] - 5s 11ms/step - loss: 5.0241e-05 - accuracy: 1.0000\n",
            "Epoch 358/500\n",
            "469/469 [==============================] - 6s 13ms/step - loss: 5.0093e-05 - accuracy: 1.0000\n",
            "Epoch 359/500\n",
            "469/469 [==============================] - 5s 11ms/step - loss: 4.9944e-05 - accuracy: 1.0000\n",
            "Epoch 360/500\n",
            "469/469 [==============================] - 6s 13ms/step - loss: 4.9772e-05 - accuracy: 1.0000\n",
            "Epoch 361/500\n",
            "469/469 [==============================] - 5s 11ms/step - loss: 4.9610e-05 - accuracy: 1.0000\n",
            "Epoch 362/500\n",
            "469/469 [==============================] - 5s 11ms/step - loss: 4.9424e-05 - accuracy: 1.0000\n",
            "Epoch 363/500\n",
            "469/469 [==============================] - 6s 13ms/step - loss: 4.9339e-05 - accuracy: 1.0000\n",
            "Epoch 364/500\n",
            "469/469 [==============================] - 5s 11ms/step - loss: 4.9186e-05 - accuracy: 1.0000\n",
            "Epoch 365/500\n",
            "469/469 [==============================] - 6s 13ms/step - loss: 4.9000e-05 - accuracy: 1.0000\n",
            "Epoch 366/500\n",
            "469/469 [==============================] - 5s 11ms/step - loss: 4.8867e-05 - accuracy: 1.0000\n",
            "Epoch 367/500\n",
            "469/469 [==============================] - 5s 11ms/step - loss: 4.8703e-05 - accuracy: 1.0000\n",
            "Epoch 368/500\n",
            "469/469 [==============================] - 6s 13ms/step - loss: 4.8558e-05 - accuracy: 1.0000\n",
            "Epoch 369/500\n",
            "469/469 [==============================] - 5s 11ms/step - loss: 4.8433e-05 - accuracy: 1.0000\n",
            "Epoch 370/500\n",
            "469/469 [==============================] - 6s 14ms/step - loss: 4.8266e-05 - accuracy: 1.0000\n",
            "Epoch 371/500\n",
            "469/469 [==============================] - 5s 11ms/step - loss: 4.8153e-05 - accuracy: 1.0000\n",
            "Epoch 372/500\n",
            "469/469 [==============================] - 6s 12ms/step - loss: 4.7927e-05 - accuracy: 1.0000\n",
            "Epoch 373/500\n",
            "469/469 [==============================] - 6s 12ms/step - loss: 4.7836e-05 - accuracy: 1.0000\n",
            "Epoch 374/500\n",
            "469/469 [==============================] - 5s 11ms/step - loss: 4.7696e-05 - accuracy: 1.0000\n",
            "Epoch 375/500\n",
            "469/469 [==============================] - 6s 13ms/step - loss: 4.7559e-05 - accuracy: 1.0000\n",
            "Epoch 376/500\n",
            "469/469 [==============================] - 5s 11ms/step - loss: 4.7433e-05 - accuracy: 1.0000\n",
            "Epoch 377/500\n",
            "469/469 [==============================] - 6s 12ms/step - loss: 4.7233e-05 - accuracy: 1.0000\n",
            "Epoch 378/500\n",
            "469/469 [==============================] - 6s 13ms/step - loss: 4.7162e-05 - accuracy: 1.0000\n",
            "Epoch 379/500\n",
            "469/469 [==============================] - 5s 11ms/step - loss: 4.6960e-05 - accuracy: 1.0000\n",
            "Epoch 380/500\n",
            "469/469 [==============================] - 6s 13ms/step - loss: 4.6883e-05 - accuracy: 1.0000\n",
            "Epoch 381/500\n",
            "469/469 [==============================] - 5s 10ms/step - loss: 4.6720e-05 - accuracy: 1.0000\n",
            "Epoch 382/500\n",
            "469/469 [==============================] - 6s 12ms/step - loss: 4.6580e-05 - accuracy: 1.0000\n",
            "Epoch 383/500\n",
            "469/469 [==============================] - 7s 15ms/step - loss: 4.6431e-05 - accuracy: 1.0000\n",
            "Epoch 384/500\n",
            "469/469 [==============================] - 5s 11ms/step - loss: 4.6290e-05 - accuracy: 1.0000\n",
            "Epoch 385/500\n",
            "469/469 [==============================] - 6s 13ms/step - loss: 4.6166e-05 - accuracy: 1.0000\n",
            "Epoch 386/500\n",
            "469/469 [==============================] - 5s 11ms/step - loss: 4.6011e-05 - accuracy: 1.0000\n",
            "Epoch 387/500\n",
            "469/469 [==============================] - 6s 13ms/step - loss: 4.5908e-05 - accuracy: 1.0000\n",
            "Epoch 388/500\n",
            "469/469 [==============================] - 5s 11ms/step - loss: 4.5771e-05 - accuracy: 1.0000\n",
            "Epoch 389/500\n",
            "469/469 [==============================] - 5s 11ms/step - loss: 4.5628e-05 - accuracy: 1.0000\n",
            "Epoch 390/500\n",
            "469/469 [==============================] - 6s 13ms/step - loss: 4.5503e-05 - accuracy: 1.0000\n",
            "Epoch 391/500\n",
            "469/469 [==============================] - 5s 11ms/step - loss: 4.5393e-05 - accuracy: 1.0000\n",
            "Epoch 392/500\n",
            "469/469 [==============================] - 6s 14ms/step - loss: 4.5234e-05 - accuracy: 1.0000\n",
            "Epoch 393/500\n",
            "469/469 [==============================] - 5s 11ms/step - loss: 4.5102e-05 - accuracy: 1.0000\n",
            "Epoch 394/500\n",
            "469/469 [==============================] - 5s 12ms/step - loss: 4.4987e-05 - accuracy: 1.0000\n",
            "Epoch 395/500\n",
            "469/469 [==============================] - 6s 13ms/step - loss: 4.4816e-05 - accuracy: 1.0000\n",
            "Epoch 396/500\n",
            "469/469 [==============================] - 5s 11ms/step - loss: 4.4745e-05 - accuracy: 1.0000\n",
            "Epoch 397/500\n",
            "469/469 [==============================] - 6s 13ms/step - loss: 4.4562e-05 - accuracy: 1.0000\n",
            "Epoch 398/500\n",
            "469/469 [==============================] - 5s 11ms/step - loss: 4.4494e-05 - accuracy: 1.0000\n",
            "Epoch 399/500\n",
            "469/469 [==============================] - 6s 12ms/step - loss: 4.4339e-05 - accuracy: 1.0000\n",
            "Epoch 400/500\n",
            "469/469 [==============================] - 6s 13ms/step - loss: 4.4243e-05 - accuracy: 1.0000\n",
            "Epoch 401/500\n",
            "469/469 [==============================] - 5s 11ms/step - loss: 4.4099e-05 - accuracy: 1.0000\n",
            "Epoch 402/500\n",
            "469/469 [==============================] - 6s 14ms/step - loss: 4.3977e-05 - accuracy: 1.0000\n",
            "Epoch 403/500\n",
            "469/469 [==============================] - 5s 11ms/step - loss: 4.3874e-05 - accuracy: 1.0000\n",
            "Epoch 404/500\n",
            "469/469 [==============================] - 6s 12ms/step - loss: 4.3732e-05 - accuracy: 1.0000\n",
            "Epoch 405/500\n",
            "469/469 [==============================] - 5s 12ms/step - loss: 4.3615e-05 - accuracy: 1.0000\n",
            "Epoch 406/500\n",
            "469/469 [==============================] - 5s 11ms/step - loss: 4.3503e-05 - accuracy: 1.0000\n",
            "Epoch 407/500\n",
            "469/469 [==============================] - 6s 13ms/step - loss: 4.3386e-05 - accuracy: 1.0000\n",
            "Epoch 408/500\n",
            "469/469 [==============================] - 5s 11ms/step - loss: 4.3236e-05 - accuracy: 1.0000\n",
            "Epoch 409/500\n",
            "469/469 [==============================] - 6s 13ms/step - loss: 4.3147e-05 - accuracy: 1.0000\n",
            "Epoch 410/500\n",
            "469/469 [==============================] - 5s 11ms/step - loss: 4.3024e-05 - accuracy: 1.0000\n",
            "Epoch 411/500\n",
            "469/469 [==============================] - 7s 14ms/step - loss: 4.2912e-05 - accuracy: 1.0000\n",
            "Epoch 412/500\n",
            "469/469 [==============================] - 6s 13ms/step - loss: 4.2811e-05 - accuracy: 1.0000\n",
            "Epoch 413/500\n",
            "469/469 [==============================] - 5s 11ms/step - loss: 4.2663e-05 - accuracy: 1.0000\n",
            "Epoch 414/500\n",
            "469/469 [==============================] - 6s 13ms/step - loss: 4.2566e-05 - accuracy: 1.0000\n",
            "Epoch 415/500\n",
            "469/469 [==============================] - 5s 11ms/step - loss: 4.2453e-05 - accuracy: 1.0000\n",
            "Epoch 416/500\n",
            "469/469 [==============================] - 6s 13ms/step - loss: 4.2321e-05 - accuracy: 1.0000\n",
            "Epoch 417/500\n",
            "469/469 [==============================] - 6s 12ms/step - loss: 4.2223e-05 - accuracy: 1.0000\n",
            "Epoch 418/500\n",
            "469/469 [==============================] - 5s 11ms/step - loss: 4.2113e-05 - accuracy: 1.0000\n",
            "Epoch 419/500\n",
            "469/469 [==============================] - 6s 14ms/step - loss: 4.2020e-05 - accuracy: 1.0000\n",
            "Epoch 420/500\n",
            "469/469 [==============================] - 5s 11ms/step - loss: 4.1877e-05 - accuracy: 1.0000\n",
            "Epoch 421/500\n",
            "469/469 [==============================] - 7s 14ms/step - loss: 4.1785e-05 - accuracy: 1.0000\n",
            "Epoch 422/500\n",
            "469/469 [==============================] - 5s 11ms/step - loss: 4.1650e-05 - accuracy: 1.0000\n",
            "Epoch 423/500\n",
            "469/469 [==============================] - 6s 12ms/step - loss: 4.1569e-05 - accuracy: 1.0000\n",
            "Epoch 424/500\n",
            "469/469 [==============================] - 6s 13ms/step - loss: 4.1420e-05 - accuracy: 1.0000\n",
            "Epoch 425/500\n",
            "469/469 [==============================] - 5s 11ms/step - loss: 4.1342e-05 - accuracy: 1.0000\n",
            "Epoch 426/500\n",
            "469/469 [==============================] - 6s 13ms/step - loss: 4.1226e-05 - accuracy: 1.0000\n",
            "Epoch 427/500\n",
            "469/469 [==============================] - 5s 11ms/step - loss: 4.1085e-05 - accuracy: 1.0000\n",
            "Epoch 428/500\n",
            "469/469 [==============================] - 6s 12ms/step - loss: 4.1005e-05 - accuracy: 1.0000\n",
            "Epoch 429/500\n",
            "469/469 [==============================] - 6s 13ms/step - loss: 4.0902e-05 - accuracy: 1.0000\n",
            "Epoch 430/500\n",
            "469/469 [==============================] - 5s 11ms/step - loss: 4.0802e-05 - accuracy: 1.0000\n",
            "Epoch 431/500\n",
            "469/469 [==============================] - 7s 14ms/step - loss: 4.0687e-05 - accuracy: 1.0000\n",
            "Epoch 432/500\n",
            "469/469 [==============================] - 5s 11ms/step - loss: 4.0573e-05 - accuracy: 1.0000\n",
            "Epoch 433/500\n",
            "469/469 [==============================] - 6s 13ms/step - loss: 4.0499e-05 - accuracy: 1.0000\n",
            "Epoch 434/500\n",
            "469/469 [==============================] - 6s 12ms/step - loss: 4.0387e-05 - accuracy: 1.0000\n",
            "Epoch 435/500\n",
            "469/469 [==============================] - 5s 12ms/step - loss: 4.0266e-05 - accuracy: 1.0000\n",
            "Epoch 436/500\n",
            "469/469 [==============================] - 7s 14ms/step - loss: 4.0181e-05 - accuracy: 1.0000\n",
            "Epoch 437/500\n",
            "469/469 [==============================] - 5s 11ms/step - loss: 4.0041e-05 - accuracy: 1.0000\n",
            "Epoch 438/500\n",
            "469/469 [==============================] - 8s 17ms/step - loss: 3.9973e-05 - accuracy: 1.0000\n",
            "Epoch 439/500\n",
            "469/469 [==============================] - 5s 11ms/step - loss: 3.9846e-05 - accuracy: 1.0000\n",
            "Epoch 440/500\n",
            "469/469 [==============================] - 6s 12ms/step - loss: 3.9763e-05 - accuracy: 1.0000\n",
            "Epoch 441/500\n",
            "469/469 [==============================] - 6s 13ms/step - loss: 3.9642e-05 - accuracy: 1.0000\n",
            "Epoch 442/500\n",
            "469/469 [==============================] - 5s 11ms/step - loss: 3.9577e-05 - accuracy: 1.0000\n",
            "Epoch 443/500\n",
            "469/469 [==============================] - 6s 14ms/step - loss: 3.9468e-05 - accuracy: 1.0000\n",
            "Epoch 444/500\n",
            "469/469 [==============================] - 5s 11ms/step - loss: 3.9330e-05 - accuracy: 1.0000\n",
            "Epoch 445/500\n",
            "469/469 [==============================] - 6s 13ms/step - loss: 3.9255e-05 - accuracy: 1.0000\n",
            "Epoch 446/500\n",
            "469/469 [==============================] - 6s 12ms/step - loss: 3.9141e-05 - accuracy: 1.0000\n",
            "Epoch 447/500\n",
            "469/469 [==============================] - 5s 11ms/step - loss: 3.9053e-05 - accuracy: 1.0000\n",
            "Epoch 448/500\n",
            "469/469 [==============================] - 6s 14ms/step - loss: 3.8956e-05 - accuracy: 1.0000\n",
            "Epoch 449/500\n",
            "469/469 [==============================] - 5s 11ms/step - loss: 3.8838e-05 - accuracy: 1.0000\n",
            "Epoch 450/500\n",
            "469/469 [==============================] - 6s 14ms/step - loss: 3.8764e-05 - accuracy: 1.0000\n",
            "Epoch 451/500\n",
            "469/469 [==============================] - 5s 11ms/step - loss: 3.8691e-05 - accuracy: 1.0000\n",
            "Epoch 452/500\n",
            "469/469 [==============================] - 5s 12ms/step - loss: 3.8585e-05 - accuracy: 1.0000\n",
            "Epoch 453/500\n",
            "469/469 [==============================] - 6s 13ms/step - loss: 3.8480e-05 - accuracy: 1.0000\n",
            "Epoch 454/500\n",
            "469/469 [==============================] - 5s 11ms/step - loss: 3.8386e-05 - accuracy: 1.0000\n",
            "Epoch 455/500\n",
            "469/469 [==============================] - 7s 14ms/step - loss: 3.8282e-05 - accuracy: 1.0000\n",
            "Epoch 456/500\n",
            "469/469 [==============================] - 5s 12ms/step - loss: 3.8203e-05 - accuracy: 1.0000\n",
            "Epoch 457/500\n",
            "469/469 [==============================] - 6s 12ms/step - loss: 3.8125e-05 - accuracy: 1.0000\n",
            "Epoch 458/500\n",
            "469/469 [==============================] - 6s 13ms/step - loss: 3.8010e-05 - accuracy: 1.0000\n",
            "Epoch 459/500\n",
            "469/469 [==============================] - 5s 11ms/step - loss: 3.7910e-05 - accuracy: 1.0000\n",
            "Epoch 460/500\n",
            "469/469 [==============================] - 6s 14ms/step - loss: 3.7840e-05 - accuracy: 1.0000\n",
            "Epoch 461/500\n",
            "469/469 [==============================] - 5s 11ms/step - loss: 3.7740e-05 - accuracy: 1.0000\n",
            "Epoch 462/500\n",
            "469/469 [==============================] - 6s 14ms/step - loss: 3.7645e-05 - accuracy: 1.0000\n",
            "Epoch 463/500\n",
            "469/469 [==============================] - 6s 12ms/step - loss: 3.7548e-05 - accuracy: 1.0000\n",
            "Epoch 464/500\n",
            "469/469 [==============================] - 6s 13ms/step - loss: 3.7443e-05 - accuracy: 1.0000\n",
            "Epoch 465/500\n",
            "469/469 [==============================] - 8s 16ms/step - loss: 3.7355e-05 - accuracy: 1.0000\n",
            "Epoch 466/500\n",
            "469/469 [==============================] - 5s 11ms/step - loss: 3.7298e-05 - accuracy: 1.0000\n",
            "Epoch 467/500\n",
            "469/469 [==============================] - 6s 12ms/step - loss: 3.7195e-05 - accuracy: 1.0000\n",
            "Epoch 468/500\n",
            "469/469 [==============================] - 6s 12ms/step - loss: 3.7118e-05 - accuracy: 1.0000\n",
            "Epoch 469/500\n",
            "469/469 [==============================] - 5s 11ms/step - loss: 3.7013e-05 - accuracy: 1.0000\n",
            "Epoch 470/500\n",
            "469/469 [==============================] - 6s 14ms/step - loss: 3.6930e-05 - accuracy: 1.0000\n",
            "Epoch 471/500\n",
            "469/469 [==============================] - 5s 11ms/step - loss: 3.6842e-05 - accuracy: 1.0000\n",
            "Epoch 472/500\n",
            "469/469 [==============================] - 6s 13ms/step - loss: 3.6771e-05 - accuracy: 1.0000\n",
            "Epoch 473/500\n",
            "469/469 [==============================] - 5s 11ms/step - loss: 3.6676e-05 - accuracy: 1.0000\n",
            "Epoch 474/500\n",
            "469/469 [==============================] - 5s 11ms/step - loss: 3.6581e-05 - accuracy: 1.0000\n",
            "Epoch 475/500\n",
            "469/469 [==============================] - 6s 14ms/step - loss: 3.6509e-05 - accuracy: 1.0000\n",
            "Epoch 476/500\n",
            "469/469 [==============================] - 5s 11ms/step - loss: 3.6421e-05 - accuracy: 1.0000\n",
            "Epoch 477/500\n",
            "469/469 [==============================] - 7s 14ms/step - loss: 3.6332e-05 - accuracy: 1.0000\n",
            "Epoch 478/500\n",
            "469/469 [==============================] - 5s 11ms/step - loss: 3.6244e-05 - accuracy: 1.0000\n",
            "Epoch 479/500\n",
            "469/469 [==============================] - 6s 12ms/step - loss: 3.6146e-05 - accuracy: 1.0000\n",
            "Epoch 480/500\n",
            "469/469 [==============================] - 6s 13ms/step - loss: 3.6074e-05 - accuracy: 1.0000\n",
            "Epoch 481/500\n",
            "469/469 [==============================] - 5s 11ms/step - loss: 3.5982e-05 - accuracy: 1.0000\n",
            "Epoch 482/500\n",
            "469/469 [==============================] - 7s 14ms/step - loss: 3.5891e-05 - accuracy: 1.0000\n",
            "Epoch 483/500\n",
            "469/469 [==============================] - 5s 11ms/step - loss: 3.5831e-05 - accuracy: 1.0000\n",
            "Epoch 484/500\n",
            "469/469 [==============================] - 6s 13ms/step - loss: 3.5749e-05 - accuracy: 1.0000\n",
            "Epoch 485/500\n",
            "469/469 [==============================] - 6s 12ms/step - loss: 3.5652e-05 - accuracy: 1.0000\n",
            "Epoch 486/500\n",
            "469/469 [==============================] - 5s 11ms/step - loss: 3.5595e-05 - accuracy: 1.0000\n",
            "Epoch 487/500\n",
            "469/469 [==============================] - 7s 14ms/step - loss: 3.5470e-05 - accuracy: 1.0000\n",
            "Epoch 488/500\n",
            "469/469 [==============================] - 5s 11ms/step - loss: 3.5416e-05 - accuracy: 1.0000\n",
            "Epoch 489/500\n",
            "469/469 [==============================] - 6s 13ms/step - loss: 3.5331e-05 - accuracy: 1.0000\n",
            "Epoch 490/500\n",
            "469/469 [==============================] - 5s 11ms/step - loss: 3.5246e-05 - accuracy: 1.0000\n",
            "Epoch 491/500\n",
            "469/469 [==============================] - 6s 12ms/step - loss: 3.5159e-05 - accuracy: 1.0000\n",
            "Epoch 492/500\n",
            "469/469 [==============================] - 8s 16ms/step - loss: 3.5074e-05 - accuracy: 1.0000\n",
            "Epoch 493/500\n",
            "469/469 [==============================] - 5s 11ms/step - loss: 3.5010e-05 - accuracy: 1.0000\n",
            "Epoch 494/500\n",
            "469/469 [==============================] - 6s 12ms/step - loss: 3.4932e-05 - accuracy: 1.0000\n",
            "Epoch 495/500\n",
            "469/469 [==============================] - 6s 12ms/step - loss: 3.4859e-05 - accuracy: 1.0000\n",
            "Epoch 496/500\n",
            "469/469 [==============================] - 5s 11ms/step - loss: 3.4762e-05 - accuracy: 1.0000\n",
            "Epoch 497/500\n",
            "469/469 [==============================] - 7s 14ms/step - loss: 3.4684e-05 - accuracy: 1.0000\n",
            "Epoch 498/500\n",
            "469/469 [==============================] - 5s 11ms/step - loss: 3.4563e-05 - accuracy: 1.0000\n",
            "Epoch 499/500\n",
            "469/469 [==============================] - 6s 13ms/step - loss: 3.4517e-05 - accuracy: 1.0000\n",
            "Epoch 500/500\n",
            "469/469 [==============================] - 6s 12ms/step - loss: 3.4460e-05 - accuracy: 1.0000\n",
            "dict_keys(['loss', 'accuracy'])\n"
          ]
        }
      ]
    },
    {
      "cell_type": "code",
      "source": [
        "import matplotlib.pyplot as plt\n",
        "\n",
        "acc = treino.history['accuracy']\n",
        "\n",
        "loss = treino.history['loss']\n",
        "\n",
        "epochs = range(1, len(acc) + 1)\n",
        "\n",
        "# \"bo\" ponto azul\n",
        "#plt.plot(epochs, loss, 'bo', label='Treinamento custo')\n",
        "# b linha azul\"\n",
        "plt.plot(epochs, acc, 'b', label='Acuracia')\n",
        "plt.title('Custo e Acurácia')\n",
        "plt.xlabel('Epocas')\n",
        "plt.ylabel('Custo')\n",
        "plt.legend()\n",
        "\n",
        "plt.show()"
      ],
      "metadata": {
        "colab": {
          "base_uri": "https://localhost:8080/",
          "height": 472
        },
        "id": "PIJBvEF12N0A",
        "outputId": "474c8649-c82c-4bad-8617-b8b9bba7d160"
      },
      "execution_count": null,
      "outputs": [
        {
          "output_type": "display_data",
          "data": {
            "text/plain": [
              "<Figure size 640x480 with 1 Axes>"
            ],
            "image/png": "[encoded data removed]"
          },
          "metadata": {}
        }
      ]
    },
    {
      "cell_type": "code",
      "source": [
        "import matplotlib.pyplot as plt\n",
        "\n",
        "acc = treino.history['accuracy']\n",
        "\n",
        "loss = treino.history['loss']\n",
        "\n",
        "epochs = range(1, len(acc) + 1)\n",
        "\n",
        "# \"bo\" ponto azul\n",
        "#plt.plot(epochs, loss, 'bo', label='Treinamento custo')\n",
        "# b linha azul\"\n",
        "plt.plot(epochs, acc, 'b', label='Acuracia')\n",
        "plt.title('Custo e Acurácia')\n",
        "plt.xlabel('Epocas')\n",
        "plt.ylabel('Custo')\n",
        "plt.legend()\n",
        "\n",
        "plt.show()"
      ],
      "metadata": {
        "colab": {
          "base_uri": "https://localhost:8080/",
          "height": 472
        },
        "id": "AfRQHHLG2VNx",
        "outputId": "4f5d8e3c-9809-4454-beb9-25df2377e200"
      },
      "execution_count": null,
      "outputs": [
        {
          "output_type": "display_data",
          "data": {
            "text/plain": [
              "<Figure size 640x480 with 1 Axes>"
            ],
            "image/png": "[encoded data removed]"
          },
          "metadata": {}
        }
      ]
    },
    {
      "cell_type": "code",
      "source": [
        "respostas = rede.predict(test_images )\n",
        "imagem_escolhida = 2\n",
        "digito = test_image_copy[imagem_escolhida]\n",
        "%matplotlib inline\n",
        "import matplotlib.pyplot as plt\n",
        "plt.imshow(digito, cmap = plt.cm.binary)\n",
        "plt.show()\n",
        "print(respostas[imagem_escolhida])\n",
        "print('A maior probabilidade é: ',np.amax(respostas[imagem_escolhida]))\n",
        "print('Imagem corresponde ao número: ', np.argmax(respostas[imagem_escolhida]))"
      ],
      "metadata": {
        "colab": {
          "base_uri": "https://localhost:8080/",
          "height": 517
        },
        "id": "0o68JZXT2p7j",
        "outputId": "abdb7259-e292-4f5c-c9bc-4c86b8d91b55"
      },
      "execution_count": null,
      "outputs": [
        {
          "output_type": "stream",
          "name": "stdout",
          "text": [
            "313/313 [==============================] - 1s 2ms/step\n"
          ]
        },
        {
          "output_type": "display_data",
          "data": {
            "text/plain": [
              "<Figure size 640x480 with 1 Axes>"
            ],
            "image/png": "[encoded data removed]"
          },
          "metadata": {}
        },
        {
          "output_type": "stream",
          "name": "stdout",
          "text": [
            "[1.3232340e-15 9.9999994e-01 2.6913971e-08 3.0662744e-13 6.6570451e-11\n",
            " 9.8467352e-11 2.3289120e-12 1.5522145e-10 7.5120985e-09 6.1867212e-14]\n",
            "A maior probabilidade é:  0.99999994\n",
            "Imagem corresponde ao número:  1\n"
          ]
        }
      ]
    },
    {
      "cell_type": "code",
      "source": [
        "# mais camadas e mais neuronios por camadas\n",
        "rede.add(layers.Dense(300,activation = 'sigmoid', input_shape = (28*28,) ))\n",
        "rede.add(layers.Dense(300,activation = 'sigmoid', input_shape = (28*28,) ))\n",
        "rede.add(layers.Dense(300,activation = 'sigmoid', input_shape = (28*28,) ))\n",
        "rede.add(layers.Dense(10,activation='softmax'))"
      ],
      "metadata": {
        "id": "PnqbUEEh3K-K"
      },
      "execution_count": null,
      "outputs": []
    },
    {
      "cell_type": "code",
      "source": [
        "\n",
        "treino = rede.fit(train_images, train_labels, epochs=20, batch_size=128)\n",
        "historia = treino.history\n",
        "\n",
        "print(historia.keys())"
      ],
      "metadata": {
        "id": "RoqQqloU3jpd",
        "colab": {
          "base_uri": "https://localhost:8080/"
        },
        "outputId": "e3f28b00-6439-43fc-ca05-ddef97b177bc"
      },
      "execution_count": null,
      "outputs": [
        {
          "output_type": "stream",
          "name": "stdout",
          "text": [
            "Epoch 1/20\n",
            "469/469 [==============================] - 4s 9ms/step - loss: 0.0226 - accuracy: 0.9947\n",
            "Epoch 2/20\n",
            "469/469 [==============================] - 5s 11ms/step - loss: 0.0203 - accuracy: 0.9952\n",
            "Epoch 3/20\n",
            "469/469 [==============================] - 4s 9ms/step - loss: 0.0183 - accuracy: 0.9960\n",
            "Epoch 4/20\n",
            "469/469 [==============================] - 4s 9ms/step - loss: 0.0162 - accuracy: 0.9967\n",
            "Epoch 5/20\n",
            "469/469 [==============================] - 5s 11ms/step - loss: 0.0150 - accuracy: 0.9973\n",
            "Epoch 6/20\n",
            "469/469 [==============================] - 4s 9ms/step - loss: 0.0133 - accuracy: 0.9975\n",
            "Epoch 7/20\n",
            "469/469 [==============================] - 4s 9ms/step - loss: 0.0120 - accuracy: 0.9980\n",
            "Epoch 8/20\n",
            "469/469 [==============================] - 5s 11ms/step - loss: 0.0110 - accuracy: 0.9982\n",
            "Epoch 9/20\n",
            "469/469 [==============================] - 4s 9ms/step - loss: 0.0097 - accuracy: 0.9988\n",
            "Epoch 10/20\n",
            "469/469 [==============================] - 4s 9ms/step - loss: 0.0089 - accuracy: 0.9988\n",
            "Epoch 11/20\n",
            "469/469 [==============================] - 5s 11ms/step - loss: 0.0079 - accuracy: 0.9990\n",
            "Epoch 12/20\n",
            "469/469 [==============================] - 4s 9ms/step - loss: 0.0073 - accuracy: 0.9991\n",
            "Epoch 13/20\n",
            "469/469 [==============================] - 4s 9ms/step - loss: 0.0066 - accuracy: 0.9991\n",
            "Epoch 14/20\n",
            "469/469 [==============================] - 5s 11ms/step - loss: 0.0060 - accuracy: 0.9994\n",
            "Epoch 15/20\n",
            "469/469 [==============================] - 4s 9ms/step - loss: 0.0054 - accuracy: 0.9994\n",
            "Epoch 16/20\n",
            "469/469 [==============================] - 4s 9ms/step - loss: 0.0049 - accuracy: 0.9995\n",
            "Epoch 17/20\n",
            "469/469 [==============================] - 5s 11ms/step - loss: 0.0045 - accuracy: 0.9995\n",
            "Epoch 18/20\n",
            "469/469 [==============================] - 4s 9ms/step - loss: 0.0041 - accuracy: 0.9997\n",
            "Epoch 19/20\n",
            "469/469 [==============================] - 4s 9ms/step - loss: 0.0038 - accuracy: 0.9997\n",
            "Epoch 20/20\n",
            "469/469 [==============================] - 5s 11ms/step - loss: 0.0034 - accuracy: 0.9998\n",
            "dict_keys(['loss', 'accuracy'])\n"
          ]
        }
      ]
    },
    {
      "cell_type": "code",
      "source": [
        "import matplotlib.pyplot as plt\n",
        "\n",
        "acc = treino.history['accuracy']\n",
        "\n",
        "loss = treino.history['loss']\n",
        "\n",
        "epochs = range(1, len(acc) + 1)\n",
        "\n",
        "# \"bo\" ponto azul\n",
        "#plt.plot(epochs, loss, 'bo', label='Treinamento custo')\n",
        "# b linha azul\"\n",
        "plt.plot(epochs, acc, 'b', label='Acuracia')\n",
        "plt.title('Custo e Acurácia')\n",
        "plt.xlabel('Epocas')\n",
        "plt.ylabel('Custo')\n",
        "plt.legend()\n",
        "\n",
        "plt.show()"
      ],
      "metadata": {
        "id": "0MdSzr6K3o5M",
        "colab": {
          "base_uri": "https://localhost:8080/",
          "height": 472
        },
        "outputId": "bf6ecd30-afc2-4a2f-b2c8-955fc8fd6e9a"
      },
      "execution_count": null,
      "outputs": [
        {
          "output_type": "display_data",
          "data": {
            "text/plain": [
              "<Figure size 640x480 with 1 Axes>"
            ],
            "image/png": "[encoded data removed]"
          },
          "metadata": {}
        }
      ]
    },
    {
      "cell_type": "code",
      "source": [
        "import matplotlib.pyplot as plt\n",
        "\n",
        "acc = treino.history['accuracy']\n",
        "\n",
        "loss = treino.history['loss']\n",
        "\n",
        "epochs = range(1, len(acc) + 1)\n",
        "\n",
        "# \"bo\" ponto azul\n",
        "#plt.plot(epochs, loss, 'bo', label='Treinamento custo')\n",
        "# b linha azul\"\n",
        "plt.plot(epochs, acc, 'b', label='Acuracia')\n",
        "plt.title('Custo e Acurácia')\n",
        "plt.xlabel('Epocas')\n",
        "plt.ylabel('Custo')\n",
        "plt.legend()\n",
        "\n",
        "plt.show()"
      ],
      "metadata": {
        "id": "sWZnPfwA3r09",
        "colab": {
          "base_uri": "https://localhost:8080/",
          "height": 472
        },
        "outputId": "20f958e6-cdc2-4656-f7bf-80fd059d9e2e"
      },
      "execution_count": null,
      "outputs": [
        {
          "output_type": "display_data",
          "data": {
            "text/plain": [
              "<Figure size 640x480 with 1 Axes>"
            ],
            "image/png": "[encoded data removed]"
          },
          "metadata": {}
        }
      ]
    },
    {
      "cell_type": "code",
      "source": [
        "respostas = rede.predict(test_images )\n",
        "imagem_escolhida = 2\n",
        "digito = test_image_copy[imagem_escolhida]\n",
        "%matplotlib inline\n",
        "import matplotlib.pyplot as plt\n",
        "plt.imshow(digito, cmap = plt.cm.binary)\n",
        "plt.show()\n",
        "print(respostas[imagem_escolhida])\n",
        "print('A maior probabilidade é: ',np.amax(respostas[imagem_escolhida]))\n",
        "print('Imagem corresponde ao número: ', np.argmax(respostas[imagem_escolhida]))"
      ],
      "metadata": {
        "id": "ugl61OLJ3uQ3",
        "colab": {
          "base_uri": "https://localhost:8080/",
          "height": 517
        },
        "outputId": "d74c9cb0-e8e3-4a6d-d8f7-225f15164bd7"
      },
      "execution_count": null,
      "outputs": [
        {
          "output_type": "stream",
          "name": "stdout",
          "text": [
            "313/313 [==============================] - 1s 3ms/step\n"
          ]
        },
        {
          "output_type": "display_data",
          "data": {
            "text/plain": [
              "<Figure size 640x480 with 1 Axes>"
            ],
            "image/png": "[encoded data removed]"
          },
          "metadata": {}
        },
        {
          "output_type": "stream",
          "name": "stdout",
          "text": [
            "[0.09280481 0.09637658 0.08925247 0.06898561 0.10049641 0.1641672\n",
            " 0.0996825  0.1430933  0.10389552 0.04124561]\n",
            "A maior probabilidade é:  0.1641672\n",
            "Imagem corresponde ao número:  5\n"
          ]
        }
      ]
    }
  ],
  "metadata": {
    "kernelspec": {
      "display_name": "Python 3 (ipykernel)",
      "language": "python",
      "name": "python3"
    },
    "language_info": {
      "codemirror_mode": {
        "name": "ipython",
        "version": 3
      },
      "file_extension": ".py",
      "mimetype": "text/x-python",
      "name": "python",
      "nbconvert_exporter": "python",
      "pygments_lexer": "ipython3",
      "version": "3.10.9"
    },
    "colab": {
      "provenance": []
    }
  },
  "nbformat": 4,
  "nbformat_minor": 0
}